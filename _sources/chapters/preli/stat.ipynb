{
 "cells": [
  {
   "cell_type": "markdown",
   "id": "0509dad5-f838-4e24-ae57-3d5e05c57527",
   "metadata": {},
   "source": [
    "# Basics of statistics\n",
    "\n",
    "## Correlation"
   ]
  },
  {
   "cell_type": "markdown",
   "id": "449e55dc-f425-47ca-a3eb-1e3698a68e5e",
   "metadata": {},
   "source": [
    "## Mutual information"
   ]
  },
  {
   "cell_type": "code",
   "execution_count": null,
   "id": "bb9a25b1-7106-402e-b6a7-0131314a3ecd",
   "metadata": {},
   "outputs": [],
   "source": []
  }
 ],
 "metadata": {
  "kernelspec": {
   "display_name": "Python 3 (ipykernel)",
   "language": "python",
   "name": "python3"
  },
  "language_info": {
   "codemirror_mode": {
    "name": "ipython",
    "version": 3
   },
   "file_extension": ".py",
   "mimetype": "text/x-python",
   "name": "python",
   "nbconvert_exporter": "python",
   "pygments_lexer": "ipython3",
   "version": "3.9.16"
  }
 },
 "nbformat": 4,
 "nbformat_minor": 5
}
