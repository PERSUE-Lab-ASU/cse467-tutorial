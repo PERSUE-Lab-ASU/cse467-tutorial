{
 "cells": [
  {
   "cell_type": "markdown",
   "id": "51c0a750-c5a3-46e1-b8d5-c7afc7a76faf",
   "metadata": {},
   "source": [
    "# Differential Privacy"
   ]
  },
  {
   "cell_type": "markdown",
   "id": "81a4eece-20f0-4d10-ab02-d21de8b603a3",
   "metadata": {
    "tags": []
   },
   "source": [
    "## Attack model\n",
    "Explain when DP is necessary.\n",
    "\n",
    "Point out that DP only protects membership status."
   ]
  },
  {
   "cell_type": "code",
   "execution_count": 58,
   "id": "4bbbd500-0d06-4d60-9dd4-2900b20ee43e",
   "metadata": {},
   "outputs": [
    {
     "data": {
      "text/html": [
       "<div>\n",
       "<style scoped>\n",
       "    .dataframe tbody tr th:only-of-type {\n",
       "        vertical-align: middle;\n",
       "    }\n",
       "\n",
       "    .dataframe tbody tr th {\n",
       "        vertical-align: top;\n",
       "    }\n",
       "\n",
       "    .dataframe thead th {\n",
       "        text-align: right;\n",
       "    }\n",
       "</style>\n",
       "<table border=\"1\" class=\"dataframe\">\n",
       "  <thead>\n",
       "    <tr style=\"text-align: right;\">\n",
       "      <th></th>\n",
       "      <th>Name</th>\n",
       "      <th>DOB</th>\n",
       "      <th>SSN</th>\n",
       "      <th>Zip</th>\n",
       "      <th>Workclass</th>\n",
       "      <th>Education</th>\n",
       "      <th>Education-Num</th>\n",
       "      <th>Marital Status</th>\n",
       "      <th>Occupation</th>\n",
       "      <th>Relationship</th>\n",
       "      <th>Race</th>\n",
       "      <th>Sex</th>\n",
       "      <th>Hours per week</th>\n",
       "      <th>Country</th>\n",
       "      <th>Target</th>\n",
       "      <th>Age</th>\n",
       "      <th>Capital Gain</th>\n",
       "      <th>Capital Loss</th>\n",
       "    </tr>\n",
       "  </thead>\n",
       "  <tbody>\n",
       "    <tr>\n",
       "      <th>0</th>\n",
       "      <td>Karrie Trusslove</td>\n",
       "      <td>9/7/1967</td>\n",
       "      <td>732-14-6110</td>\n",
       "      <td>64152</td>\n",
       "      <td>State-gov</td>\n",
       "      <td>Bachelors</td>\n",
       "      <td>13</td>\n",
       "      <td>Never-married</td>\n",
       "      <td>Adm-clerical</td>\n",
       "      <td>Not-in-family</td>\n",
       "      <td>White</td>\n",
       "      <td>Male</td>\n",
       "      <td>40</td>\n",
       "      <td>United-States</td>\n",
       "      <td>&lt;=50K</td>\n",
       "      <td>56</td>\n",
       "      <td>2174</td>\n",
       "      <td>0</td>\n",
       "    </tr>\n",
       "    <tr>\n",
       "      <th>1</th>\n",
       "      <td>Brandise Tripony</td>\n",
       "      <td>6/7/1988</td>\n",
       "      <td>150-19-2766</td>\n",
       "      <td>61523</td>\n",
       "      <td>Self-emp-not-inc</td>\n",
       "      <td>Bachelors</td>\n",
       "      <td>13</td>\n",
       "      <td>Married-civ-spouse</td>\n",
       "      <td>Exec-managerial</td>\n",
       "      <td>Husband</td>\n",
       "      <td>White</td>\n",
       "      <td>Male</td>\n",
       "      <td>13</td>\n",
       "      <td>United-States</td>\n",
       "      <td>&lt;=50K</td>\n",
       "      <td>35</td>\n",
       "      <td>0</td>\n",
       "      <td>0</td>\n",
       "    </tr>\n",
       "    <tr>\n",
       "      <th>2</th>\n",
       "      <td>Brenn McNeely</td>\n",
       "      <td>8/6/1991</td>\n",
       "      <td>725-59-9860</td>\n",
       "      <td>95668</td>\n",
       "      <td>Private</td>\n",
       "      <td>HS-grad</td>\n",
       "      <td>9</td>\n",
       "      <td>Divorced</td>\n",
       "      <td>Handlers-cleaners</td>\n",
       "      <td>Not-in-family</td>\n",
       "      <td>White</td>\n",
       "      <td>Male</td>\n",
       "      <td>40</td>\n",
       "      <td>United-States</td>\n",
       "      <td>&lt;=50K</td>\n",
       "      <td>32</td>\n",
       "      <td>0</td>\n",
       "      <td>0</td>\n",
       "    </tr>\n",
       "    <tr>\n",
       "      <th>3</th>\n",
       "      <td>Dorry Poter</td>\n",
       "      <td>4/6/2009</td>\n",
       "      <td>659-57-4974</td>\n",
       "      <td>25503</td>\n",
       "      <td>Private</td>\n",
       "      <td>11th</td>\n",
       "      <td>7</td>\n",
       "      <td>Married-civ-spouse</td>\n",
       "      <td>Handlers-cleaners</td>\n",
       "      <td>Husband</td>\n",
       "      <td>Black</td>\n",
       "      <td>Male</td>\n",
       "      <td>40</td>\n",
       "      <td>United-States</td>\n",
       "      <td>&lt;=50K</td>\n",
       "      <td>14</td>\n",
       "      <td>0</td>\n",
       "      <td>0</td>\n",
       "    </tr>\n",
       "    <tr>\n",
       "      <th>4</th>\n",
       "      <td>Dick Honnan</td>\n",
       "      <td>9/16/1951</td>\n",
       "      <td>220-93-3811</td>\n",
       "      <td>75387</td>\n",
       "      <td>Private</td>\n",
       "      <td>Bachelors</td>\n",
       "      <td>13</td>\n",
       "      <td>Married-civ-spouse</td>\n",
       "      <td>Prof-specialty</td>\n",
       "      <td>Wife</td>\n",
       "      <td>Black</td>\n",
       "      <td>Female</td>\n",
       "      <td>40</td>\n",
       "      <td>Cuba</td>\n",
       "      <td>&lt;=50K</td>\n",
       "      <td>72</td>\n",
       "      <td>0</td>\n",
       "      <td>0</td>\n",
       "    </tr>\n",
       "  </tbody>\n",
       "</table>\n",
       "</div>"
      ],
      "text/plain": [
       "               Name        DOB          SSN    Zip         Workclass  \\\n",
       "0  Karrie Trusslove   9/7/1967  732-14-6110  64152         State-gov   \n",
       "1  Brandise Tripony   6/7/1988  150-19-2766  61523  Self-emp-not-inc   \n",
       "2     Brenn McNeely   8/6/1991  725-59-9860  95668           Private   \n",
       "3       Dorry Poter   4/6/2009  659-57-4974  25503           Private   \n",
       "4       Dick Honnan  9/16/1951  220-93-3811  75387           Private   \n",
       "\n",
       "   Education  Education-Num      Marital Status         Occupation  \\\n",
       "0  Bachelors             13       Never-married       Adm-clerical   \n",
       "1  Bachelors             13  Married-civ-spouse    Exec-managerial   \n",
       "2    HS-grad              9            Divorced  Handlers-cleaners   \n",
       "3       11th              7  Married-civ-spouse  Handlers-cleaners   \n",
       "4  Bachelors             13  Married-civ-spouse     Prof-specialty   \n",
       "\n",
       "    Relationship   Race     Sex  Hours per week        Country Target  Age  \\\n",
       "0  Not-in-family  White    Male              40  United-States  <=50K   56   \n",
       "1        Husband  White    Male              13  United-States  <=50K   35   \n",
       "2  Not-in-family  White    Male              40  United-States  <=50K   32   \n",
       "3        Husband  Black    Male              40  United-States  <=50K   14   \n",
       "4           Wife  Black  Female              40           Cuba  <=50K   72   \n",
       "\n",
       "   Capital Gain  Capital Loss  \n",
       "0          2174             0  \n",
       "1             0             0  \n",
       "2             0             0  \n",
       "3             0             0  \n",
       "4             0             0  "
      ]
     },
     "execution_count": 58,
     "metadata": {},
     "output_type": "execute_result"
    }
   ],
   "source": [
    "import pandas as pd\n",
    "import numpy as np\n",
    "adult = pd.read_csv('../../datasets/adult_with_pii.csv')#[[\"age\", \"education\", \"marital status\", \"occupation\",\n",
    "                                                          #\"relationship\",\"native-country\",  \"workclass\", \"fnlwgt\", \"education-num\", \"capital-gain\", \"capital-loss\", \"hours-per-week\",\n",
    "                                                #           \"race\", \"gender\",  \"salary\"]]\n",
    "#colums=['workclass', 'fnlwgt',  'education',  'education-num      marital-status         occupation   relationship   race   sex  capital-gain  capital-loss  hours-per-week native-country income\n",
    "adult.head()"
   ]
  },
  {
   "cell_type": "markdown",
   "id": "c261756f-5f0b-495e-9dce-28ec7193ad76",
   "metadata": {},
   "source": [
    "## Definitions\n",
    "\n",
    "### Neighboring datasets\n",
    "Two datasets $D_1$ and $D_2$ are neighbors if they differ in at most one record (i.e., one row). Thus, either $D_1$ has at most one more (or less) row than $D_2$, or at most one row in $D_1$ has values that are different than $D_2$. We write $|D_1 - D_2|\\leq 1$\n",
    "\n",
    "```{image} ./figs/neighbor-datasets.png\n",
    ":height: 150px\n",
    ":name: neighbor-datasets\n",
    "\n",
    "Neighboring datasets\n",
    "```\n",
    "\n",
    "For example, in {ref}`figure <neighbor-datasets>`, $D_2$ can be obtained by deleting one row from $D_1$ (or $D_1$ can be obtained by adding one row to $D_2$) and thus they are neighbors. $D_1$ and $D_3$ has the same number of rows, but the values in (exactly) one row is different, thus they are also neighbors. Note that, you can obtain $D_3$ by first deleting the last row from $D_1$ and then adding one row in the resulting dataset; thus, this replacement operation can be thought of as a combination of a deletion and an addition operations (i.e., two operations in total)."
   ]
  },
  {
   "cell_type": "markdown",
   "id": "18d1bc60-d790-4a91-bca9-2c4230d6ece2",
   "metadata": {},
   "source": [
    "## Privacy Loss\n",
    "\n",
    "privacy loss= $ln{\\frac{P(M(D_1)=t)}{P(M(D_2)=t)}}$"
   ]
  },
  {
   "cell_type": "markdown",
   "id": "053d69cf-5c52-4b8e-833f-58d2ba78b9de",
   "metadata": {},
   "source": [
    "### $\\epsilon-$Differential Privacy\n",
    "\n",
    "A *randomized* mechanism (or algorithm) $M$ satisfies $\\epsilon$-differential privacy if and only if for any two neighboring datasets $D_1$ and $D_2$, the following condition is satisfied\n",
    "\n",
    "$\\forall S \\in Range(M): P(M(D_1) \\in S) \\leq e^{\\epsilon} P(M(D_2) \\in S)$\n",
    "\n",
    "where $\\epsilon \\leq 0$ and $Range(M)$ denotes the set of all possible outputs of the algorithm $M$.\n",
    "\n",
    "This defition can be written as\n",
    "\n",
    "$\\forall S \\in Range(M): \\frac{P(M(D_1) \\in S)}{ P(M(D_2) \\in S)} \\leq e^{\\epsilon}$\n",
    "\n",
    "where  $\\frac{0}{0}=1$\n",
    "\n",
    "\n",
    "The important implication of this definition is that $M$’s output will be pretty much the same, with or without the data of any specific individual. That means, since $M$ is randomized, the built-in randomness is \"enough” to prevent someone from guessing, after seeing the output, which dataset was used to compute that output. Imagine that, if your data is present in $D_1$ but not in $D_2$, an adversary won't be able to tell whether or not your data was present in the\n",
    "input dataset.\n",
    "\n",
    "**Note:** The mechanism $M$ is differentially private (if it satisfies the above condition), not the datasets.\n",
    "\n",
    "**Note:** The parameter $\\epsilon$ dictates how much privacy you get: smaller values mean that when algorithm $M$ is applied on $D_1$ and $D_2$, the outcomes are similar (i.e., more privacy) than larger values."
   ]
  },
  {
   "cell_type": "markdown",
   "id": "88a47bbf-201f-4b86-ba75-ad0ef9303538",
   "metadata": {},
   "source": [
    "### Bounded and Unbounded DP"
   ]
  },
  {
   "cell_type": "markdown",
   "id": "e69f40bc-ec74-4f67-9253-fa446cc9e47c",
   "metadata": {},
   "source": [
    "## Acheiving Differential Privacy\n",
    "Recall that the goal is to make an algorithm differentially private, i.e., the algorithm gives *similar* outputs for neighboring datastets. How do we acheive this? The most popular mechanism is to add noise to the outcomes, so that they become similar enough. There are multiple ways to select the noise, we will explore some of them below.\n",
    "\n",
    "### The Laplace mechanism\n",
    "\n",
    "Let’s consider a query on the census data: “How many individuals in the dataset are 40 years old or older?”"
   ]
  },
  {
   "cell_type": "code",
   "execution_count": 30,
   "id": "f14727f3-7bcd-43dc-a36c-55edfbe2ab81",
   "metadata": {},
   "outputs": [
    {
     "data": {
      "text/plain": [
       "7161"
      ]
     },
     "execution_count": 30,
     "metadata": {},
     "output_type": "execute_result"
    }
   ],
   "source": [
    "adult[adult['Age'] >= 40].shape[0]"
   ]
  },
  {
   "cell_type": "markdown",
   "id": "fba48cea-03d9-4cd5-acfe-19f6e0d00e32",
   "metadata": {},
   "source": [
    "How can we add enough noise to satisfy the DP property, but not too much that the answer becomes useless? Laplace mechanism is one of the most popular ways to achieve DP in such cases. Here, we add some noise, sampled from the Laplace distribution, to the actual query output, and return the noisy result. If the actual query function is denoted by $f$ that computes the query using dataset $D$, then the noisy return value becomes $f(D)+ L$, where $L$ is the Laplace noise. Since the noise is sampled from a distribution, each time we call the query function, a different amount of noise will be added. Thus, the whole mechanism becomes randomized, and, DP also requires a randomized algorithm. The final question is, how to appropriately set  the parameters of the Laplace function, so that when we add noise from it, we can satisfy the DP condition? \n",
    "\n",
    "The Laplace distribution for a zero mean is given by $L(b)=\\frac{1}{2b} e^{-\\frac{|x|}{b}}$ where $b$ is the variance parameter. To satisfy DP, we set $b= \\frac{\\Delta}{\\epsilon}$. So the noisy output becomes $f(D)+L(\\frac{\\Delta}{\\epsilon})$ . This whole randomized mechanism can be represented as $M(D, \\epsilon, \\Delta) = f(D)+L(\\frac{\\Delta}{\\epsilon})$, where $M$ is the randomized mechanism that takes a dataset, the privacy budget, and sensitivity of the query function, and produces a $\\epsilon$-differentially private outcome."
   ]
  },
  {
   "cell_type": "markdown",
   "id": "90244843-3fd2-47a8-a975-217c63286b99",
   "metadata": {},
   "source": [
    "For counting queries the sensitivity is 1: if a query counts the number of rows in the dataset with a particular property, and then we modify exactly one row of the dataset, then the query’s output can change by at most 1.\n",
    "Thus we can achieve differential privacy for our example query by using the Laplace mechanism with sensitivity 1 and an\n",
    "$\\epsilon$ of our choosing. "
   ]
  },
  {
   "cell_type": "code",
   "execution_count": 42,
   "id": "81392862-8de0-4399-9f09-b19ae0a97e54",
   "metadata": {},
   "outputs": [
    {
     "name": "stdout",
     "output_type": "stream",
     "text": [
      "7152\n",
      "7150\n",
      "7161\n",
      "7164\n",
      "7152\n"
     ]
    }
   ],
   "source": [
    "sensitivity = 1\n",
    "epsilon = 0.1\n",
    "# Get the differentially private count of adults who are older than 40 years. \n",
    "# Note that each call produces slightly different result, and each of them are different, but pretty close to the original value.\n",
    "for i in range(5):\n",
    "    print(int(adult[adult['Age'] >= 40].shape[0] + np.random.laplace(loc=0, scale=sensitivity/epsilon)))"
   ]
  },
  {
   "cell_type": "markdown",
   "id": "9b238001-881b-4140-8f81-564adadcc289",
   "metadata": {},
   "source": [
    "Now see that a larger value of $\\epsilon$ produces more different outcomes (hence, the otucomes may not be \"similar enough\" to each other to protect privacy)"
   ]
  },
  {
   "cell_type": "code",
   "execution_count": 44,
   "id": "bfd9a8a9-aafb-4556-b7d7-1ce86fab79ca",
   "metadata": {},
   "outputs": [
    {
     "name": "stdout",
     "output_type": "stream",
     "text": [
      "7160\n",
      "7161\n",
      "7160\n",
      "7161\n",
      "7161\n"
     ]
    }
   ],
   "source": [
    "sensitivity = 1\n",
    "epsilon = 5\n",
    "for i in range(5):\n",
    "    print(int(adult[adult['Age'] >= 40].shape[0] + np.random.laplace(loc=0, scale=sensitivity/epsilon)))"
   ]
  },
  {
   "cell_type": "markdown",
   "id": "77d7988c-16d1-4350-a0dc-d72836df10b2",
   "metadata": {},
   "source": [
    "Below is the analytical proof that Laplace mechanism satisfies DP condition.\n",
    "\n",
    "For $D_1$, the Laplace noise will be $L(\\frac{\\Delta}{\\epsilon}) = \\frac{\\epsilon}{2\\Delta} e^{-(\\frac{\\epsilon |f(D_1)|}{\\Delta})}$\n",
    "\n",
    "For $D_2$, the Laplace noise will be $L(\\frac{\\Delta}{\\epsilon}) = \\frac{\\epsilon}{2\\Delta} e^{-(\\frac{\\epsilon |f(D_2)|}{\\Delta})}$\n",
    "\n",
    "For the DP mechanism $M$, the randomization part comes from this Laplace noise sampling, all other steps in the mechanism are deterministic. Thus, the final outcome of $M$, which is random or probabilistic, will follow the same distribution as the Laplace function. Tat means\n",
    "\n",
    "$\\frac{P(M(D_1))\\in S}{P(M(D_2))\\in S} =  \\frac{e^{-(\\frac{\\epsilon|f(D_1)|} {\\Delta})}}{e^{-(\\frac{\\epsilon|f(D_2)|} {\\Delta})}} = e^{-\\frac{\\epsilon (|f(D_2)| - |f(D_1|)} {\\Delta}} \\leq e^{\\epsilon}$\n"
   ]
  },
  {
   "cell_type": "markdown",
   "id": "593716c4-e604-41c6-aa0e-a6b40cf9e0c1",
   "metadata": {},
   "source": [
    "citing {cite}`exponential-mechanism`\n",
    "\n",
    "{cite}`exponential-mechanism`"
   ]
  },
  {
   "cell_type": "markdown",
   "id": "de4c34e4-86c1-44e9-aa70-97e3cc731ef2",
   "metadata": {},
   "source": [
    "```{bibliography}\n",
    "```"
   ]
  },
  {
   "cell_type": "code",
   "execution_count": null,
   "id": "bc742a12-46e4-41c8-b705-d793e8de8f43",
   "metadata": {},
   "outputs": [],
   "source": []
  }
 ],
 "metadata": {
  "kernelspec": {
   "display_name": "Python 3 (ipykernel)",
   "language": "python",
   "name": "python3"
  },
  "language_info": {
   "codemirror_mode": {
    "name": "ipython",
    "version": 3
   },
   "file_extension": ".py",
   "mimetype": "text/x-python",
   "name": "python",
   "nbconvert_exporter": "python",
   "pygments_lexer": "ipython3",
   "version": "3.9.16"
  }
 },
 "nbformat": 4,
 "nbformat_minor": 5
}
