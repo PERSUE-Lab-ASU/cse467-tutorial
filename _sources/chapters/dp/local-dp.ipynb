{
 "cells": [
  {
   "cell_type": "code",
   "execution_count": 1,
   "id": "dad5ef4c-ff30-4a49-92eb-561bf0879ce8",
   "metadata": {},
   "outputs": [],
   "source": [
    "import pandas as pd, numpy as np\n",
    "import matplotlib.pyplot as plt"
   ]
  },
  {
   "cell_type": "markdown",
   "id": "e95c87da-dc0d-42db-90f9-9f15f31dcebf",
   "metadata": {},
   "source": [
    "# Local differential privacy\n",
    "\n",
    "## Threat model\n",
    "\n",
    "Previously, we considered a situation where a trusted data curator collected data from the population, but what if there is not such trusted curator? This is often the case in practice, because the data collector (e.g., the government or a private for-profit company) may be also the one who analyzes and uses the collected data. Thus, we need a mechanism to apply DP (the randomization) *before* the data is collected. There are several ways to do that for different data types.\n",
    "\n",
    "## Randomized Response (RR) mechanism for binary data\n",
    "\n",
    "Let's assume that the data to be collected is binary (Yes or No). Under RR, the original response is randomized twice, following this process:\n",
    "\n",
    "1. Flip a coin: if tail, send the original respone\n",
    "2. Otherwise, flip another coin: if the second coin is a head, answer “yes” \n",
    "3. if the second coin is a tail, answer “no”\n",
    "\n",
    "Randomizing the original response twice provides privacy in the form of *plausible deniability*, i.e., even if the final response is the same as the original response, the data subject can deny that that's how they had responded.\n",
    "\n",
    "Does RR satisfy DP criteria? It does for $\\epsilon=ln 3$, as the following proof demonstrates.\n",
    "\n",
    "Imagine that $D_1$ contains the original response, and $D_2$ contains the final response (which might be the same as the original one). All other rows of those two datasets are the same (they are neighbors). If the original response was a \"yes\", then,\n",
    "\n",
    "$\\frac{P(M(D_1) = Y)}{P(M(D_2)= Y )} = \\frac{P(Y|Y)}{P(Y|N)} = \\frac{\\frac{3}{4}}{\\frac{1}{4}} = 3$\n",
    "\n",
    "Thus, $3\\leq e^{\\epsilon}$ or $\\epsilon \\geq log_2 3=ln 3$\n",
    "\n",
    "```{note}\n",
    "Randomize response is $ln 3-$Differential private\n",
    "```"
   ]
  },
  {
   "cell_type": "markdown",
   "id": "613e741c-ddef-4434-b7f8-0d7e5a3441a1",
   "metadata": {},
   "source": [
    "### Utility of RR\n",
    "\n",
    "How much utility is retained in randomized responses? How accurately can we recover the true \"Yes\" (or \"No\") responses?\n",
    "Let's assume that `p` is the true probability (proportion) of \"Yes\" responses.\n",
    "\n",
    "Actual number of “Yes”, $Y$ = expected number of true “yes” + expected number of false “yes\"\\\n",
    "$Y = p* (\\frac{1}{2} + \\frac{1}{2} * \\frac{1}{2}) + (1-p) * \\frac{1}{2} * \\frac{1}{2}$\\\n",
    "$Y = \\frac{1}{2} * p + \\frac{1}{4}$\\\n",
    "$p=2*(Y-\\frac{1}{4})$"
   ]
  },
  {
   "cell_type": "code",
   "execution_count": null,
   "id": "23d4bda1-c240-4030-9798-37b25081c9ba",
   "metadata": {},
   "outputs": [],
   "source": []
  }
 ],
 "metadata": {
  "kernelspec": {
   "display_name": "Python 3 (ipykernel)",
   "language": "python",
   "name": "python3"
  },
  "language_info": {
   "codemirror_mode": {
    "name": "ipython",
    "version": 3
   },
   "file_extension": ".py",
   "mimetype": "text/x-python",
   "name": "python",
   "nbconvert_exporter": "python",
   "pygments_lexer": "ipython3",
   "version": "3.9.16"
  }
 },
 "nbformat": 4,
 "nbformat_minor": 5
}
