{
 "cells": [
  {
   "cell_type": "markdown",
   "id": "d5302b63-8ba2-4712-a6e1-2b85b30ca451",
   "metadata": {},
   "source": [
    "# Preliminaries\n",
    "\n",
    "## Probability basics\n",
    "\n",
    "Probability is one of **THE most important** knowledge branch that comes up pretty much any domain you want to study. This is because things in the real world is uncertain, and probability is the toolkit to express and study uncertainty!\n",
    "\n",
    "Unfortunately, probability is also one of the most challenging topic to grasp (at least I get pretty easily confused). But let's try our best. Let's start with the definition of probability for an outcome, when all outcomes are equaly likely.\n",
    "\n",
    "The probability of an event $E$, $P(E) = \\frac{\\text{number of outcomes in E}}{\\text{number of total possible outcomes}}$ \n",
    "\n",
    "For example, for rolling a dice, the probabiltiy of getting a $4$ is $P(E=\\text{(outcome = 4)})=\\frac{1}{6}$, because there are six possible outcomes in the sample space, $S=\\{1,2,3,4,5,6\\}$ and $4$ is one of them.\n",
    "\n",
    "An event can incorporate more than one outcomes, e.g., $P(E=\\text{outcome is an odd number}) = \\frac{|\\{1,3,5\\}|}{|\\{1,2,3,4,5,6\\}|} = \\frac{1}{2}$\n",
    "\n",
    "When the outcomes are not equally likely, probability of an event can be thought of as the *relative* frequency of it happening over <ins> multiple or repeated trial</ins>. According to this definition, the probability of obtaining a $4$ from a dice rolls being $1/6$ means that, roughly, one out of six times you will get a $4$ if you repeatedly roll a dice (for infinite times). Each of these individual rolls are called a \"Trial.\"\n",
    "\n",
    "But what if the events are not repeatable? For example, what does it mean to say that \"the probability of me getting an scholarship this year is $1/4$ or $25%$?\" There is only one \"this year\" (i.e., non repeatable) and the outcomes are not equally probable. In such cases, probablity means the degree of believing that an event will happen."
   ]
  },
  {
   "cell_type": "code",
   "execution_count": null,
   "id": "0b5c3b7a-7d60-46a6-a165-a797517cf3e8",
   "metadata": {},
   "outputs": [],
   "source": []
  },
  {
   "cell_type": "markdown",
   "id": "aa878f67-057a-4997-9192-98cb3b75a3df",
   "metadata": {},
   "source": [
    "### Random variable\n",
    "A Random variable is a function that maps a set of events to a set of real numbers. In other words, a random variable assigns a number to each of the events. The events themselves can be numeric (like rolling a dice yields a numeric outcome) and the mapped values can be the same (i.e., an identity function).\n",
    "\n",
    "For example, we can define a random variable $X$ which denotes the values of a dice throw. That means $X$ can take any value from $\\{1,2,3,4,5,6\\}$. In this case, the probability of getting a $4$ can be expressed as $P(X=4)$.\n",
    "\n",
    "Random variables can map non-numeric values to numbers. For example, a coin toss yields a head or tail, $S=\\{H, T\\}$. We can define a random variable over this set that takes $1$ if head or $0$ if tail is yielded. Then, $P(X=1) = P(X=0)= 0.5$. \n",
    "\n",
    "Why do not we call a random variable a function, when it is in fact a function? I do not know. Probably because of historical reasons. \n",
    "\n",
    "Okay, but why do we need random variables in the first place? Because it allows us to assign arbitrary numerical functions to the set of outcomes (or events), and compute the probability of arbitrary numerical values. For example, if we represent dice roll with $X$, we can ask what is the probability that $X<5$, which will translate to the probability of having an outcome between $1$ and $4$. Another example is, say we roll two dice where $X$ and $Y$ represent the outcomes, we can ask what is the probability of having a total of 8, i.e., $P(X+Y=8)$?\n",
    "\n",
    "### Expected value\n",
    "Since random variables can take (different) numerical values, the concept of what value it takes *on average* is interesting (and important). The expected value is the arithmetic mean of the possible values a random variable can take, weighted by the probability of those outcomes. In other words, if we repeatedly allow the variable to take values according to the probability of different events, the `expected value` indicates what can we *expect to get* on average.\n",
    "\n",
    "For example, let's say you play a game where you roll a dice and get a gift money based on what the dice yields. Assume that for $\\{1,2,3,4,5,6\\}$, you get gift of $\\{100, 120, 140, 150, 180, 200\\}$ USD. That is the random variable (which is really a function) maps $\\{1,2,3,4,5,6\\}$ to $\\{100, 120, 140, 150, 180, 200\\}$. How much can you *expect to get* if you play the game once? This is the mean or expected value.\n",
    "\n",
    "$E(G) = \\frac{1}{6} (100+ 120+ 140 + 150+ 180+ 200) \\approx 148$\n",
    "\n",
    "The general equation of expected value of a random variable $X$ is $E(X) = \\sum_i X_i P(X=X_i) = \\sum_i x P(X=x)$.\n",
    "\n",
    "### Variance and Standard Deviation\n",
    "\n",
    "Variance of a random variable $X$ is the same concept as variance of any variable (random or not). Intuitively, it says how different the values that $X$ can take from each other. The more the values *vary* from each other the higher the variance (duh). \n",
    "It is measured as the average of squired distances of the values from their mean (confusing, right?). Mathmatically,\n",
    "\n",
    "$Var(X) = E[(X-E[X])^2]$\n",
    "\n",
    "Intuitively, it says that, how different the values are from their mean (which implicitly measures how different the values are from each other.\n",
    "\n",
    "For example, if a random variable is associated with a dice roll but always takes $1$ regardless of what the dice shows, then the expected value is also $1$, and the variance is $0$ since there is no variation. See below that, since the values of $Y$ are farther apart from each other compared to $X$, the variance of $Y$ is larger than the variance of $X$."
   ]
  },
  {
   "cell_type": "code",
   "execution_count": 11,
   "id": "28fa0627-2b00-4a6e-92db-fd4c3810c6b2",
   "metadata": {},
   "outputs": [
    {
     "name": "stdout",
     "output_type": "stream",
     "text": [
      "x:[1, 2, 3, 4, 5, 6, 7, 8, 9, 10], variance:8.25\n",
      "y:[10, 20, 30, 40, 50, 60, 70, 80, 90, 100], variance:825.0\n"
     ]
    }
   ],
   "source": [
    "import numpy as np\n",
    "\n",
    "x= np.array(range(1,11))\n",
    "print('x:{}, variance:{}'.format( list(x), np.var(x)))\n",
    "y= x*10\n",
    "print('y:{}, variance:{}'.format( list(y), np.var(y)))"
   ]
  },
  {
   "cell_type": "markdown",
   "id": "93715b77-bbcc-4e54-b6f0-f2e5b718bc95",
   "metadata": {},
   "source": [
    "```{note}\n",
    "The most important takeaway about variance is that it indicates how different of a value from the expected value you can expect to get.\n",
    "```\n",
    "The standard deviation is the squared root of variance: $SD(X) = \\sqrt{var(X)}$"
   ]
  },
  {
   "cell_type": "markdown",
   "id": "6b3325bd-8404-43ab-8eba-ac82090499da",
   "metadata": {},
   "source": [
    "## Probability distribution \n",
    "\n",
    "**Definition:** For $n$ mutually exclusive (i.e., cannot occur together) events $(E_1, E_2,\\dots ,E_n)$, if the following conditions hold:\n",
    "\n",
    "1. $0 \\leq P(E_i) \\leq 1, \\forall i=1,\\dots, n$ \n",
    "2. $\\sum_1^n P(E_i)= 1$\n",
    "   \n",
    "then, the set $\\{P(E_1), P(E_2), \\dots, P(E_n)\\}$ is the probability distribution of the event set. I.e., the distribution shows *how the total probabiliy of 1 is distributed across the mutually exclusive events*.\n",
    "\n",
    "We can think of a probability distribution as a function, that maps the possible events to their probabilities. For example, for a fair coin toss, it maps $\\{H, T\\}$ to $\\{.5,.5\\}$. \n",
    "\n",
    "Like any other function, a probability distribution function, denoted as $p(X)$ of random varible $X$ can be plotted."
   ]
  },
  {
   "cell_type": "code",
   "execution_count": 29,
   "id": "fe5350dd-7175-4ffe-baaf-3f3bae62c4dd",
   "metadata": {},
   "outputs": [
    {
     "data": {
      "image/png": "[encoded data removed]",
      "text/plain": [
       "<Figure size 864x288 with 2 Axes>"
      ]
     },
     "metadata": {
      "needs_background": "light"
     },
     "output_type": "display_data"
    }
   ],
   "source": [
    "import matplotlib.pyplot as plt\n",
    "fig, axes = plt.subplots(nrows=1, ncols=2, figsize=(12,4))\n",
    "axes[0].plot(['H', 'T'], [.5,.5], 'o-')\n",
    "axes[0].set_title('probility distribution function of a coin toss.', fontsize=12)\n",
    "# plt.show()\n",
    "axes[1].plot(list(range(1,7)), [1/6]*6, 'o-')\n",
    "axes[1].set_title('probility distribution function of a dice roll.', fontsize=12)\n",
    "plt.show()"
   ]
  },
  {
   "cell_type": "markdown",
   "id": "f24bf903-a6b9-4dd9-b8b2-6e0a327ef96a",
   "metadata": {},
   "source": [
    "The functions are parallel to the horizontal axis, because the they are uniform functions (each value has the same probability). We can also have a vertical line (a point function) if only one value has probablity of 1, all else 0 (imagine a coin with both sides head!). These two are extreme examples. Most probability distributions are somewhere in the middle.\n",
    "\n",
    "#### Random variables and probability distributions\n",
    "Random variables and probability distributions both are functions, so how are they related? A random variable maps events to numeric values, and a probability distribution maps events to their probabilities. Since values of a random variable have the same probabilities as the associated events, these values have the same probability distribution function. \n",
    "\n",
    "For example, if the events of head and tail for a fair coin toss is mapped to 1 and 0, then they have the same probability distribution of $\\{.5,.5\\}$.\n",
    "\n",
    "Sampling from a distribution function means that taking values for a random variable according to the distribution function. This idea goes back to the frequncy: if we repeatedly take values from a probability distribution function, the relative frequency will follow the shape of that function. The more we sample, the more closely they will follow that function. Let's see this idea with some popular probability functions.\n",
    "\n",
    "#### Gaussian distribution\n",
    "\n",
    "The Gaussian, or Normal distribution function has the following equation:\n",
    "\n",
    "<<engine='python'>>\n",
    "print('Hi')\n",
    "@"
   ]
  },
  {
   "cell_type": "code",
   "execution_count": null,
   "id": "165ef265-04d3-4973-902e-2baee343a942",
   "metadata": {},
   "outputs": [],
   "source": []
  },
  {
   "cell_type": "code",
   "execution_count": null,
   "id": "269a5a08-b434-4bdd-be07-d4937cb9f9ab",
   "metadata": {},
   "outputs": [],
   "source": []
  },
  {
   "cell_type": "markdown",
   "id": "25dfbb5c-584f-4ec8-9901-2cae00c7ce08",
   "metadata": {},
   "source": [
    "---\n",
    "**External resources**\n",
    "- https://homepages.inf.ed.ac.uk/sgwater/teaching/general/probability.pdf\n",
    "- https://bookdown.org/kevin_davisross/probsim-book/prob-literacy.html"
   ]
  },
  {
   "cell_type": "code",
   "execution_count": null,
   "id": "c353a0b1-e126-46f5-9665-36d9f2c4cd48",
   "metadata": {},
   "outputs": [],
   "source": []
  }
 ],
 "metadata": {
  "kernelspec": {
   "display_name": "Python 3 (ipykernel)",
   "language": "python",
   "name": "python3"
  },
  "language_info": {
   "codemirror_mode": {
    "name": "ipython",
    "version": 3
   },
   "file_extension": ".py",
   "mimetype": "text/x-python",
   "name": "python",
   "nbconvert_exporter": "python",
   "pygments_lexer": "ipython3",
   "version": "3.9.16"
  }
 },
 "nbformat": 4,
 "nbformat_minor": 5
}
