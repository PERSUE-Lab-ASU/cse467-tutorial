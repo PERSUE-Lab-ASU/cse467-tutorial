{
 "cells": [
  {
   "cell_type": "markdown",
   "id": "d5302b63-8ba2-4712-a6e1-2b85b30ca451",
   "metadata": {},
   "source": [
    "# Preliminaries\n",
    "\n",
    "Monotonically increasing function."
   ]
  },
  {
   "cell_type": "code",
   "execution_count": null,
   "id": "cb5247e4-c0fe-4b93-b203-ac97435491d7",
   "metadata": {},
   "outputs": [],
   "source": []
  }
 ],
 "metadata": {
  "kernelspec": {
   "display_name": "Python 3 (ipykernel)",
   "language": "python",
   "name": "python3"
  },
  "language_info": {
   "codemirror_mode": {
    "name": "ipython",
    "version": 3
   },
   "file_extension": ".py",
   "mimetype": "text/x-python",
   "name": "python",
   "nbconvert_exporter": "python",
   "pygments_lexer": "ipython3",
   "version": "3.9.16"
  }
 },
 "nbformat": 4,
 "nbformat_minor": 5
}
