{
 "cells": [
  {
   "cell_type": "code",
   "execution_count": 1,
   "id": "595eeac9-cb81-4e47-87dc-4aa2144ac964",
   "metadata": {},
   "outputs": [],
   "source": [
    "import pandas as pd\n",
    "import numpy as np"
   ]
  },
  {
   "cell_type": "code",
   "execution_count": 2,
   "id": "a06866d9-dcbf-4770-aa46-a2be14c055c5",
   "metadata": {},
   "outputs": [],
   "source": [
    "adult=pd.read_csv('~/Downloads/adult-reduced.csv')"
   ]
  },
  {
   "cell_type": "code",
   "execution_count": 3,
   "id": "5f6f09dd-9503-43d2-a8c8-38d052a9e504",
   "metadata": {},
   "outputs": [],
   "source": [
    "patient = pd.read_csv('~/Downloads/adult-patients.csv')"
   ]
  },
  {
   "cell_type": "code",
   "execution_count": 36,
   "id": "d66eb456-6103-4c1b-aeda-6dc321568cf4",
   "metadata": {},
   "outputs": [],
   "source": [
    "m = pd.merge(patient, adult, on=['Sex', 'Marital Status', 'Occupation', 'DOB', 'Education'])"
   ]
  },
  {
   "cell_type": "code",
   "execution_count": 38,
   "id": "4b506384-8d6f-42cc-976e-afb0a870a03b",
   "metadata": {},
   "outputs": [
    {
     "data": {
      "text/plain": [
       "'Fever'"
      ]
     },
     "execution_count": 38,
     "metadata": {},
     "output_type": "execute_result"
    }
   ],
   "source": [
    "# df=pd.merge(patient, adult, on=['Sex', 'Marital Status', 'Occupation', 'DOB', 'Education'])\n",
    "\n",
    "m[m.Name=='Gwenette Nashe'].Disease.values[0]"
   ]
  },
  {
   "cell_type": "code",
   "execution_count": 19,
   "id": "ad030cf4-5200-4254-9c39-d1380506dc16",
   "metadata": {},
   "outputs": [
    {
     "ename": "ValueError",
     "evalue": "Can only compare identically-labeled Series objects",
     "output_type": "error",
     "traceback": [
      "\u001b[0;31m---------------------------------------------------------------------------\u001b[0m",
      "\u001b[0;31mValueError\u001b[0m                                Traceback (most recent call last)",
      "Input \u001b[0;32mIn [19]\u001b[0m, in \u001b[0;36m<module>\u001b[0;34m\u001b[0m\n\u001b[0;32m----> 1\u001b[0m patient[(\u001b[43mpatient\u001b[49m\u001b[38;5;241;43m.\u001b[39;49m\u001b[43mEducation\u001b[49m\u001b[38;5;241;43m==\u001b[39;49m\u001b[43mrow\u001b[49m\u001b[38;5;241;43m.\u001b[39;49m\u001b[43mEducation\u001b[49m) \u001b[38;5;241m&\u001b[39m (patient\u001b[38;5;241m.\u001b[39mSex\u001b[38;5;241m==\u001b[39m\u001b[38;5;124m'\u001b[39m\u001b[38;5;124mMale\u001b[39m\u001b[38;5;124m'\u001b[39m) \u001b[38;5;241m&\u001b[39m (patient\u001b[38;5;241m.\u001b[39mDOB\u001b[38;5;241m==\u001b[39m\u001b[38;5;124m'\u001b[39m\u001b[38;5;124m3/5/1979\u001b[39m\u001b[38;5;124m'\u001b[39m) \u001b[38;5;241m&\u001b[39m (patient\u001b[38;5;241m.\u001b[39mOccupation\u001b[38;5;241m==\u001b[39m\u001b[38;5;124m'\u001b[39m\u001b[38;5;124mSales\u001b[39m\u001b[38;5;124m'\u001b[39m)]\n",
      "File \u001b[0;32m/usr/local/lib/python3.9/site-packages/pandas/core/ops/common.py:69\u001b[0m, in \u001b[0;36m_unpack_zerodim_and_defer.<locals>.new_method\u001b[0;34m(self, other)\u001b[0m\n\u001b[1;32m     65\u001b[0m             \u001b[38;5;28;01mreturn\u001b[39;00m \u001b[38;5;28mNotImplemented\u001b[39m\n\u001b[1;32m     67\u001b[0m other \u001b[38;5;241m=\u001b[39m item_from_zerodim(other)\n\u001b[0;32m---> 69\u001b[0m \u001b[38;5;28;01mreturn\u001b[39;00m \u001b[43mmethod\u001b[49m\u001b[43m(\u001b[49m\u001b[38;5;28;43mself\u001b[39;49m\u001b[43m,\u001b[49m\u001b[43m \u001b[49m\u001b[43mother\u001b[49m\u001b[43m)\u001b[49m\n",
      "File \u001b[0;32m/usr/local/lib/python3.9/site-packages/pandas/core/arraylike.py:32\u001b[0m, in \u001b[0;36mOpsMixin.__eq__\u001b[0;34m(self, other)\u001b[0m\n\u001b[1;32m     30\u001b[0m \u001b[38;5;129m@unpack_zerodim_and_defer\u001b[39m(\u001b[38;5;124m\"\u001b[39m\u001b[38;5;124m__eq__\u001b[39m\u001b[38;5;124m\"\u001b[39m)\n\u001b[1;32m     31\u001b[0m \u001b[38;5;28;01mdef\u001b[39;00m \u001b[38;5;21m__eq__\u001b[39m(\u001b[38;5;28mself\u001b[39m, other):\n\u001b[0;32m---> 32\u001b[0m     \u001b[38;5;28;01mreturn\u001b[39;00m \u001b[38;5;28;43mself\u001b[39;49m\u001b[38;5;241;43m.\u001b[39;49m\u001b[43m_cmp_method\u001b[49m\u001b[43m(\u001b[49m\u001b[43mother\u001b[49m\u001b[43m,\u001b[49m\u001b[43m \u001b[49m\u001b[43moperator\u001b[49m\u001b[38;5;241;43m.\u001b[39;49m\u001b[43meq\u001b[49m\u001b[43m)\u001b[49m\n",
      "File \u001b[0;32m/usr/local/lib/python3.9/site-packages/pandas/core/series.py:5496\u001b[0m, in \u001b[0;36mSeries._cmp_method\u001b[0;34m(self, other, op)\u001b[0m\n\u001b[1;32m   5493\u001b[0m res_name \u001b[38;5;241m=\u001b[39m ops\u001b[38;5;241m.\u001b[39mget_op_result_name(\u001b[38;5;28mself\u001b[39m, other)\n\u001b[1;32m   5495\u001b[0m \u001b[38;5;28;01mif\u001b[39;00m \u001b[38;5;28misinstance\u001b[39m(other, Series) \u001b[38;5;129;01mand\u001b[39;00m \u001b[38;5;129;01mnot\u001b[39;00m \u001b[38;5;28mself\u001b[39m\u001b[38;5;241m.\u001b[39m_indexed_same(other):\n\u001b[0;32m-> 5496\u001b[0m     \u001b[38;5;28;01mraise\u001b[39;00m \u001b[38;5;167;01mValueError\u001b[39;00m(\u001b[38;5;124m\"\u001b[39m\u001b[38;5;124mCan only compare identically-labeled Series objects\u001b[39m\u001b[38;5;124m\"\u001b[39m)\n\u001b[1;32m   5498\u001b[0m lvalues \u001b[38;5;241m=\u001b[39m \u001b[38;5;28mself\u001b[39m\u001b[38;5;241m.\u001b[39m_values\n\u001b[1;32m   5499\u001b[0m rvalues \u001b[38;5;241m=\u001b[39m extract_array(other, extract_numpy\u001b[38;5;241m=\u001b[39m\u001b[38;5;28;01mTrue\u001b[39;00m, extract_range\u001b[38;5;241m=\u001b[39m\u001b[38;5;28;01mTrue\u001b[39;00m)\n",
      "\u001b[0;31mValueError\u001b[0m: Can only compare identically-labeled Series objects"
     ]
    }
   ],
   "source": [
    "patient[(patient.Education==row.Education) & (patient.Sex=='Male') & (patient.DOB=='3/5/1979') & (patient.Occupation=='Sales')]"
   ]
  },
  {
   "cell_type": "code",
   "execution_count": 30,
   "id": "fd947061-312f-48f6-ab34-9c9b7f5a6d96",
   "metadata": {},
   "outputs": [],
   "source": [
    "row=adult[adult.Name=='Gwenette Nashe'].to_dict()"
   ]
  },
  {
   "cell_type": "code",
   "execution_count": 31,
   "id": "1544352e-9b65-4446-8526-23d36c658eca",
   "metadata": {},
   "outputs": [
    {
     "data": {
      "text/plain": [
       "{'Unnamed: 0': {23580: 23580},\n",
       " 'Name': {23580: 'Gwenette Nashe'},\n",
       " 'DOB': {23580: '3/5/1979'},\n",
       " 'Zip': {23580: 53209},\n",
       " 'Workclass': {23580: 'Private'},\n",
       " 'Education': {23580: 'Bachelors'},\n",
       " 'Education-Num': {23580: 13},\n",
       " 'Marital Status': {23580: 'Married-civ-spouse'},\n",
       " 'Occupation': {23580: 'Sales'},\n",
       " 'Relationship': {23580: 'Husband'},\n",
       " 'Race': {23580: 'White'},\n",
       " 'Sex': {23580: 'Male'},\n",
       " 'Hours per week': {23580: 40},\n",
       " 'Country': {23580: 'United-States'},\n",
       " 'Target': {23580: '>50K'},\n",
       " 'Age': {23580: 44},\n",
       " 'Capital Gain': {23580: 0},\n",
       " 'Capital Loss': {23580: 0}}"
      ]
     },
     "execution_count": 31,
     "metadata": {},
     "output_type": "execute_result"
    }
   ],
   "source": [
    "row"
   ]
  },
  {
   "cell_type": "code",
   "execution_count": 27,
   "id": "4d745e36-7fe8-47a9-bdac-40fd8f2ef488",
   "metadata": {},
   "outputs": [],
   "source": [
    "p = patient[patient.apply(lambda r: r.Education==row.Education.values[0], axis=1)]"
   ]
  },
  {
   "cell_type": "code",
   "execution_count": 28,
   "id": "1d52721a-ac3b-4823-9d5d-d05ab630002f",
   "metadata": {},
   "outputs": [
    {
     "data": {
      "text/html": [
       "<div>\n",
       "<style scoped>\n",
       "    .dataframe tbody tr th:only-of-type {\n",
       "        vertical-align: middle;\n",
       "    }\n",
       "\n",
       "    .dataframe tbody tr th {\n",
       "        vertical-align: top;\n",
       "    }\n",
       "\n",
       "    .dataframe thead th {\n",
       "        text-align: right;\n",
       "    }\n",
       "</style>\n",
       "<table border=\"1\" class=\"dataframe\">\n",
       "  <thead>\n",
       "    <tr style=\"text-align: right;\">\n",
       "      <th></th>\n",
       "      <th>Unnamed: 0</th>\n",
       "      <th>Age</th>\n",
       "      <th>Sex</th>\n",
       "      <th>Marital Status</th>\n",
       "      <th>Occupation</th>\n",
       "      <th>DOB</th>\n",
       "      <th>Education</th>\n",
       "      <th>Disease</th>\n",
       "    </tr>\n",
       "  </thead>\n",
       "  <tbody>\n",
       "    <tr>\n",
       "      <th>0</th>\n",
       "      <td>0</td>\n",
       "      <td>56</td>\n",
       "      <td>Male</td>\n",
       "      <td>Never-married</td>\n",
       "      <td>Adm-clerical</td>\n",
       "      <td>9/7/1967</td>\n",
       "      <td>Bachelors</td>\n",
       "      <td>Stomach cancer</td>\n",
       "    </tr>\n",
       "    <tr>\n",
       "      <th>1</th>\n",
       "      <td>1</td>\n",
       "      <td>35</td>\n",
       "      <td>Male</td>\n",
       "      <td>Married-civ-spouse</td>\n",
       "      <td>Exec-managerial</td>\n",
       "      <td>6/7/1988</td>\n",
       "      <td>Bachelors</td>\n",
       "      <td>Stomach cancer</td>\n",
       "    </tr>\n",
       "    <tr>\n",
       "      <th>4</th>\n",
       "      <td>4</td>\n",
       "      <td>72</td>\n",
       "      <td>Female</td>\n",
       "      <td>Married-civ-spouse</td>\n",
       "      <td>Prof-specialty</td>\n",
       "      <td>9/16/1951</td>\n",
       "      <td>Bachelors</td>\n",
       "      <td>Stomach cancer</td>\n",
       "    </tr>\n",
       "    <tr>\n",
       "      <th>9</th>\n",
       "      <td>9</td>\n",
       "      <td>25</td>\n",
       "      <td>Male</td>\n",
       "      <td>Married-civ-spouse</td>\n",
       "      <td>Exec-managerial</td>\n",
       "      <td>7/31/1998</td>\n",
       "      <td>Bachelors</td>\n",
       "      <td>Fever</td>\n",
       "    </tr>\n",
       "    <tr>\n",
       "      <th>11</th>\n",
       "      <td>11</td>\n",
       "      <td>28</td>\n",
       "      <td>Male</td>\n",
       "      <td>Married-civ-spouse</td>\n",
       "      <td>Prof-specialty</td>\n",
       "      <td>6/14/1995</td>\n",
       "      <td>Bachelors</td>\n",
       "      <td>Stomach cancer</td>\n",
       "    </tr>\n",
       "    <tr>\n",
       "      <th>...</th>\n",
       "      <td>...</td>\n",
       "      <td>...</td>\n",
       "      <td>...</td>\n",
       "      <td>...</td>\n",
       "      <td>...</td>\n",
       "      <td>...</td>\n",
       "      <td>...</td>\n",
       "      <td>...</td>\n",
       "    </tr>\n",
       "    <tr>\n",
       "      <th>32532</th>\n",
       "      <td>32532</td>\n",
       "      <td>25</td>\n",
       "      <td>Female</td>\n",
       "      <td>Married-civ-spouse</td>\n",
       "      <td>NaN</td>\n",
       "      <td>3/14/1998</td>\n",
       "      <td>Bachelors</td>\n",
       "      <td>Fever</td>\n",
       "    </tr>\n",
       "    <tr>\n",
       "      <th>32533</th>\n",
       "      <td>32533</td>\n",
       "      <td>15</td>\n",
       "      <td>Female</td>\n",
       "      <td>Never-married</td>\n",
       "      <td>NaN</td>\n",
       "      <td>10/28/2008</td>\n",
       "      <td>Bachelors</td>\n",
       "      <td>Diabetic</td>\n",
       "    </tr>\n",
       "    <tr>\n",
       "      <th>32535</th>\n",
       "      <td>32535</td>\n",
       "      <td>52</td>\n",
       "      <td>Male</td>\n",
       "      <td>Married-civ-spouse</td>\n",
       "      <td>Exec-managerial</td>\n",
       "      <td>8/16/1971</td>\n",
       "      <td>Bachelors</td>\n",
       "      <td>Heart attack</td>\n",
       "    </tr>\n",
       "    <tr>\n",
       "      <th>32538</th>\n",
       "      <td>32538</td>\n",
       "      <td>33</td>\n",
       "      <td>Female</td>\n",
       "      <td>Never-married</td>\n",
       "      <td>Exec-managerial</td>\n",
       "      <td>8/8/1990</td>\n",
       "      <td>Bachelors</td>\n",
       "      <td>Fever</td>\n",
       "    </tr>\n",
       "    <tr>\n",
       "      <th>32540</th>\n",
       "      <td>32540</td>\n",
       "      <td>41</td>\n",
       "      <td>Female</td>\n",
       "      <td>Divorced</td>\n",
       "      <td>Prof-specialty</td>\n",
       "      <td>11/18/1982</td>\n",
       "      <td>Bachelors</td>\n",
       "      <td>Stomach cancer</td>\n",
       "    </tr>\n",
       "  </tbody>\n",
       "</table>\n",
       "<p>5355 rows × 8 columns</p>\n",
       "</div>"
      ],
      "text/plain": [
       "       Unnamed: 0  Age     Sex      Marital Status       Occupation  \\\n",
       "0               0   56    Male       Never-married     Adm-clerical   \n",
       "1               1   35    Male  Married-civ-spouse  Exec-managerial   \n",
       "4               4   72  Female  Married-civ-spouse   Prof-specialty   \n",
       "9               9   25    Male  Married-civ-spouse  Exec-managerial   \n",
       "11             11   28    Male  Married-civ-spouse   Prof-specialty   \n",
       "...           ...  ...     ...                 ...              ...   \n",
       "32532       32532   25  Female  Married-civ-spouse              NaN   \n",
       "32533       32533   15  Female       Never-married              NaN   \n",
       "32535       32535   52    Male  Married-civ-spouse  Exec-managerial   \n",
       "32538       32538   33  Female       Never-married  Exec-managerial   \n",
       "32540       32540   41  Female            Divorced   Prof-specialty   \n",
       "\n",
       "              DOB  Education         Disease  \n",
       "0        9/7/1967  Bachelors  Stomach cancer  \n",
       "1        6/7/1988  Bachelors  Stomach cancer  \n",
       "4       9/16/1951  Bachelors  Stomach cancer  \n",
       "9       7/31/1998  Bachelors           Fever  \n",
       "11      6/14/1995  Bachelors  Stomach cancer  \n",
       "...           ...        ...             ...  \n",
       "32532   3/14/1998  Bachelors           Fever  \n",
       "32533  10/28/2008  Bachelors        Diabetic  \n",
       "32535   8/16/1971  Bachelors    Heart attack  \n",
       "32538    8/8/1990  Bachelors           Fever  \n",
       "32540  11/18/1982  Bachelors  Stomach cancer  \n",
       "\n",
       "[5355 rows x 8 columns]"
      ]
     },
     "execution_count": 28,
     "metadata": {},
     "output_type": "execute_result"
    }
   ],
   "source": [
    "p"
   ]
  },
  {
   "cell_type": "code",
   "execution_count": 25,
   "id": "b2cc8c90-ff29-43f0-96ad-901cd19ec301",
   "metadata": {},
   "outputs": [
    {
     "data": {
      "text/plain": [
       "array(['Bachelors'], dtype=object)"
      ]
     },
     "execution_count": 25,
     "metadata": {},
     "output_type": "execute_result"
    }
   ],
   "source": [
    "row.Education.values[0]"
   ]
  },
  {
   "cell_type": "code",
   "execution_count": null,
   "id": "838b4b59-4d18-4dc5-ad5c-e30f854fa460",
   "metadata": {},
   "outputs": [],
   "source": []
  }
 ],
 "metadata": {
  "kernelspec": {
   "display_name": "Python 3 (ipykernel)",
   "language": "python",
   "name": "python3"
  },
  "language_info": {
   "codemirror_mode": {
    "name": "ipython",
    "version": 3
   },
   "file_extension": ".py",
   "mimetype": "text/x-python",
   "name": "python",
   "nbconvert_exporter": "python",
   "pygments_lexer": "ipython3",
   "version": "3.9.16"
  }
 },
 "nbformat": 4,
 "nbformat_minor": 5
}
