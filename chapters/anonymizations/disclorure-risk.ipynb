{
 "cells": [
  {
   "cell_type": "markdown",
   "id": "4fae4f0e-7837-4beb-8576-bf73af1f5359",
   "metadata": {},
   "source": [
    "# Disclosure risk"
   ]
  },
  {
   "cell_type": "markdown",
   "id": "e0f4ffd9-2f5f-497a-b747-ac54c8e1641f",
   "metadata": {},
   "source": [
    "expected loss = disclosure risk * consequence"
   ]
  },
  {
   "cell_type": "code",
   "execution_count": null,
   "id": "88b62e54-3651-4e58-b5f8-87c8b0d406a8",
   "metadata": {},
   "outputs": [],
   "source": []
  }
 ],
 "metadata": {
  "kernelspec": {
   "display_name": "Python 3 (ipykernel)",
   "language": "python",
   "name": "python3"
  },
  "language_info": {
   "codemirror_mode": {
    "name": "ipython",
    "version": 3
   },
   "file_extension": ".py",
   "mimetype": "text/x-python",
   "name": "python",
   "nbconvert_exporter": "python",
   "pygments_lexer": "ipython3",
   "version": "3.9.16"
  }
 },
 "nbformat": 4,
 "nbformat_minor": 5
}
