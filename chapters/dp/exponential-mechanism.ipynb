{
 "cells": [
  {
   "cell_type": "markdown",
   "id": "dc2bcfb8-7d92-497c-9b68-1897e3b5005c",
   "metadata": {},
   "source": [
    "# Exponential mechanism"
   ]
  },
  {
   "cell_type": "code",
   "execution_count": 30,
   "id": "e216a98d-135a-47e8-88d8-4d3536b4ec8b",
   "metadata": {},
   "outputs": [],
   "source": [
    "import pandas as pd\n",
    "import numpy as np\n",
    "import scipy.stats as stat\n",
    "adult = pd.read_csv('../../datasets/adult_with_pii.csv')\n",
    "adult.dropna(subset = ['Occupation'], inplace=True) "
   ]
  },
  {
   "cell_type": "markdown",
   "id": "2c03dd7a-4e37-4429-8e79-88f9d46e65b5",
   "metadata": {},
   "source": [
    "Consider the following queries for the Adult dataset:\n",
    "\n",
    "- What is the most popular employment type?\n",
    "- Which employment has the maximum hours of work on average?\n",
    "\n",
    "These queries do not return any numeric values. Rather, they return an object with some property: in the first case, the object is an employment type that has the highest popularity, and in the secon case, the object, also an employment type, that has the maximum working hours.\n",
    "\n",
    "Let's assuem that $R$ denotes the set of objects from which to return one, and $u: DxR -> R$ denotes a scoring function. The query is to return the \"best\" object from $R$ according to the scores of each objects. For example, if the scoring function returns the popularity of the employments, then the first query will return the employment type that the highest number of people (in the dataset) have. However, to protect privacy, instead of always returning the true most popular employment, sometimes, we might (randomly) return another job type that is not the most popular. The probability of returning an object (employment) is proportional to the score it receives from $u$, thus, the highest scored item (most popular job, in this case) also has the higest probability to be returned, but the exponential mechanism is probabilisticc and thus may also return object that is not the highest scored. Formally,\n",
    "\n",
    "---\n",
    "\n",
    "If $R$ is the set of objects from which to return one, and $u$ is the scoring function with sensitivity $\\Delta u$, then the exponential mechanism will return an object $r\\in R$ with probability proportional to $e^{\\frac{\\epsilon u(D,r)}{2\\Delta u}}$. Concretely, the probability:\n",
    "\n",
    "$P(M(D)=r) = \\frac{e^{\\frac{\\epsilon u(D,r)}{2\\Delta u}}} {\\sum_{\\bar{r}\\in R}e^{\\frac{\\epsilon u(D,\\bar{r})}{2\\Delta u}}}$.\n",
    "\n",
    "---\n",
    "\n",
    "Two things to remember\n",
    "- The exponential mechanism returns an item from $R$, not some noisy value based on $D$.\n",
    "- The privacy cost of the mechanism is always $\\epsilon$ and independent of the size of $R$."
   ]
  },
  {
   "cell_type": "code",
   "execution_count": 46,
   "id": "f1a767bf-42f1-4e3f-aefa-7c71ef2549d8",
   "metadata": {},
   "outputs": [
    {
     "data": {
      "text/plain": [
       "0.22415458937198068"
      ]
     },
     "execution_count": 46,
     "metadata": {},
     "output_type": "execute_result"
    }
   ],
   "source": [
    "# the set of options\n",
    "R = adult.Occupation.unique()\n",
    "#the scoring function, which just returns how many times an item appears in the data divided by the max count\n",
    "def score(data, option):\n",
    "    counts= data.value_counts()\n",
    "    return counts[option]/counts.max()\n",
    "score(adult.Occupation, 'Tech-support')"
   ]
  },
  {
   "cell_type": "code",
   "execution_count": 52,
   "id": "6dfd03c7-3241-4e57-af78-7b41e01369b1",
   "metadata": {},
   "outputs": [
    {
     "data": {
      "text/plain": [
       "'Handlers-cleaners'"
      ]
     },
     "execution_count": 52,
     "metadata": {},
     "output_type": "execute_result"
    }
   ],
   "source": [
    "def exponential(D, R, u, sensitivity, epsilon):\n",
    "    \n",
    "    scores = [u(D, r) for r in R]\n",
    "    # Calculate the probability for each element, which is proportional to the score\n",
    "    probs = [np.exp(epsilon * score / (2 * sensitivity)) for score in scores]\n",
    "    probs = probs / np.linalg.norm(probs, ord=1) #normalize\n",
    "    # return an element based on the probabilities\n",
    "\n",
    "    return  np.random.choice(R, 1, p=probs)[0]\n",
    "\n",
    "exponential(adult.Occupation,  R, score, 1, 1)"
   ]
  },
  {
   "cell_type": "code",
   "execution_count": 58,
   "id": "107dc316-260a-4dfe-97d1-ee267c0f5593",
   "metadata": {},
   "outputs": [
    {
     "data": {
      "text/plain": [
       "Craft-repair         19\n",
       "Exec-managerial      17\n",
       "Handlers-cleaners    16\n",
       "Farming-fishing      16\n",
       "Sales                15\n",
       "Other-service        15\n",
       "Prof-specialty       15\n",
       "Armed-Forces         14\n",
       "Tech-support         12\n",
       "Transport-moving     12\n",
       "Machine-op-inspct    12\n",
       "Adm-clerical         11\n",
       "Priv-house-serv      10\n",
       "Baby                  9\n",
       "Protective-serv       7\n",
       "dtype: int64"
      ]
     },
     "execution_count": 58,
     "metadata": {},
     "output_type": "execute_result"
    }
   ],
   "source": [
    "items = [exponential(adult.Occupation, R, score, 1, 1) for i in range(200)]\n",
    "pd.Series(items).value_counts()"
   ]
  },
  {
   "cell_type": "code",
   "execution_count": 59,
   "id": "e3ee4e12-6cbf-4fb0-9d5b-4d8c498c9038",
   "metadata": {},
   "outputs": [
    {
     "data": {
      "text/plain": [
       "Prof-specialty       4140\n",
       "Craft-repair         4100\n",
       "Exec-managerial      4066\n",
       "Adm-clerical         3770\n",
       "Sales                3650\n",
       "Other-service        3295\n",
       "Machine-op-inspct    2002\n",
       "Transport-moving     1597\n",
       "Handlers-cleaners    1370\n",
       "Farming-fishing       994\n",
       "Tech-support          928\n",
       "Protective-serv       649\n",
       "Priv-house-serv       149\n",
       "Armed-Forces            9\n",
       "Baby                    1\n",
       "Name: Occupation, dtype: int64"
      ]
     },
     "execution_count": 59,
     "metadata": {},
     "output_type": "execute_result"
    }
   ],
   "source": [
    "adult.Occupation.value_counts()"
   ]
  },
  {
   "cell_type": "markdown",
   "id": "7d8d7d41-426d-4800-90cb-ed64652acce3",
   "metadata": {},
   "source": [
    "From above, you can see that the number of times an item was returned roughly follows that items popularity in the dataset."
   ]
  },
  {
   "cell_type": "code",
   "execution_count": null,
   "id": "e3b86243-4ca1-45c6-a570-66d5fbabb8f3",
   "metadata": {},
   "outputs": [],
   "source": []
  }
 ],
 "metadata": {
  "kernelspec": {
   "display_name": "Python 3 (ipykernel)",
   "language": "python",
   "name": "python3"
  },
  "language_info": {
   "codemirror_mode": {
    "name": "ipython",
    "version": 3
   },
   "file_extension": ".py",
   "mimetype": "text/x-python",
   "name": "python",
   "nbconvert_exporter": "python",
   "pygments_lexer": "ipython3",
   "version": "3.9.16"
  }
 },
 "nbformat": 4,
 "nbformat_minor": 5
}
