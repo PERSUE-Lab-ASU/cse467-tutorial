{
 "cells": [
  {
   "cell_type": "markdown",
   "id": "3a9c3bd2-1d37-4d54-b6f5-36e8957244ea",
   "metadata": {},
   "source": [
    "# Sensitivity\n",
    "\n",
    "In the Laplace mechanism, we saw that the noise added was proportional to the sensitivity of the query function. \n",
    "\n",
    "$M(D, \\epsilon, \\Delta) = f(D)+L(\\frac{\\Delta}{\\epsilon})$\n",
    "\n",
    "Roughly, the sensitivity of a function reflects the amount the function’s output will change when its input dataset changes by one record. Why we need sensitivity to be considered when adding noise to query result?\n",
    "\n",
    "Intuitively, we need to hide how much a single record can change the output to keep the it private that the record exist in the dataset, which in turn keeps participation of the person (or entity) in the dataset a secret. Consequently, the noise needs to be higher if the sensitivity is higher! But since DP guarantee holds for all possible datasets (not just the dataset we actually have), knowing a function's sensitivity without seeing all possible datasets is often challenging.\n",
    "\n",
    "---\n",
    "**Definitions**\n",
    "\n",
    "Global sensitivity: For two neighboring datasets $D_1$ and $D_2$, the global sensitivity is defined as \n",
    "$GS = max_{D_1, D_2; |D_1,D_2|\\leq 1} |f(D_1) - f(D_2)|$\n",
    "\n",
    "which is just the abosolute difference of the outputs of query function $f$ applied to the two datasets. ). This measure of sensitivity is called *global* because it does not depend on the actual dataset being queried.\n",
    "\n",
    "Local sensitivity: It is the same as global sensitivity, except that one of the datasets is the one being queried.\n",
    "\n",
    "---\n",
    "Most of the time, sensitivity refers to global sensitivity. Next we will look at some examples of computing sensitivity for a given query function."
   ]
  },
  {
   "cell_type": "markdown",
   "id": "8d3d9aa9-5446-4aae-ad12-883cbc7db4d7",
   "metadata": {},
   "source": [
    "## Counting queries\n",
    "Counting queries returns the number of rows in the dataset which satisfy one or more conditions. Generally, such queries  have a sensitivity of 1, since adding one row can contribute to the count by at most 1: either this row is included in the count (when it satisfied the conidtions), increasing the count by 1, or not, when the count stays the same.  Similarly, deleting a row can decrease the count by at most 1."
   ]
  },
  {
   "cell_type": "code",
   "execution_count": 35,
   "id": "25c94bfa-1b48-4f9f-b423-1321c094e2fd",
   "metadata": {},
   "outputs": [
    {
     "name": "stdout",
     "output_type": "stream",
     "text": [
      "Count: 1175\n",
      "Count: 1\n"
     ]
    }
   ],
   "source": [
    "import pandas as pd\n",
    "import numpy as np\n",
    "adult = pd.read_csv('../../datasets/adult_with_pii.csv')\n",
    "\n",
    "## Example query: how many people have studied 11th grade?\n",
    "print(\"Count:\", adult[adult['Education']==\"11th\"].shape[0])\n",
    "\n",
    "## Example query: how many people named Dorry Potter have studied 11th grade?\n",
    "print(\"Count:\", adult[(adult['Education']==\"11th\") & (adult['Name']==\"Dorry Poter\")].shape[0])"
   ]
  },
  {
   "cell_type": "markdown",
   "id": "c4a774d3-16c5-4afb-a456-6d2cdc95eb1a",
   "metadata": {},
   "source": [
    "## Summation and Average queries\n",
    "\n",
    "Summation queries adds up the values in a specific column of the datbase. For example, the query \"What is the total work hours of people who work as a tech support?\" sums the hours per week column for rows that satisfy the condition (i.e., working as tech support."
   ]
  },
  {
   "cell_type": "code",
   "execution_count": 41,
   "id": "e7837036-ab34-4707-96f6-13c8fb4e6ffe",
   "metadata": {},
   "outputs": [
    {
     "data": {
      "text/plain": [
       "36593"
      ]
     },
     "execution_count": 41,
     "metadata": {},
     "output_type": "execute_result"
    }
   ],
   "source": [
    "#Query: total number of working hours per week for Tech-support people\n",
    "adult[adult.Occupation=='Tech-support'][\"Hours per week\"].sum()"
   ]
  },
  {
   "cell_type": "markdown",
   "id": "fc8c8dd1-a80e-4fbe-801d-a44266ddadbe",
   "metadata": {},
   "source": [
    "How can we calculate the sensitivity of this function? For this, we will have to know what can be the maximum possible work hours. In the absence of this knowledge, we might make reasonable guesses, in this case, it is not difficult. Since 40 hours per week is the accepted norm, we can set this as the sensitivity (or a slightly larger value to be safe). But in many other cases, estimating a reasonable upper limit is not straightforward (salary, for example).\n",
    "\n",
    "Similarly, average queries return the mean value of some column for rows that meet certain conditions."
   ]
  },
  {
   "cell_type": "code",
   "execution_count": 42,
   "id": "cf565dfd-6395-412d-a901-a074b70e945f",
   "metadata": {},
   "outputs": [
    {
     "data": {
      "text/plain": [
       "39.432112068965516"
      ]
     },
     "execution_count": 42,
     "metadata": {},
     "output_type": "execute_result"
    }
   ],
   "source": [
    "#Query: average number of working hours per week for Tech-support people\n",
    "adult[adult.Occupation=='Tech-support'][\"Hours per week\"].mean()"
   ]
  },
  {
   "cell_type": "markdown",
   "id": "4f0fdcab-9ca4-4e01-b49d-b84a21b8b838",
   "metadata": {},
   "source": [
    "Similar to summation, it is difficult to know the sensitivity of the average query without knowing all possible datasets. However, the average query can be expressed as a summation query and a count query, because the average is the sum divided by the count."
   ]
  },
  {
   "cell_type": "code",
   "execution_count": 43,
   "id": "ea6513a1-8922-481e-abe1-b5727a87683c",
   "metadata": {},
   "outputs": [
    {
     "data": {
      "text/plain": [
       "39.432112068965516"
      ]
     },
     "execution_count": 43,
     "metadata": {},
     "output_type": "execute_result"
    }
   ],
   "source": [
    "#average qurey as sum and count query\n",
    "adult[adult.Occupation=='Tech-support'][\"Hours per week\"].sum()/adult[adult.Occupation=='Tech-support'][\"Hours per week\"].count()"
   ]
  },
  {
   "cell_type": "markdown",
   "id": "c0dc4cc9-f4bd-4198-83b4-cad8b022be5e",
   "metadata": {},
   "source": [
    "Since count queries have sensitivity 1, we just need to figure out the sensitivity of the sum query.\n",
    "\n",
    "But, in general, summation queries (and thus average queries) have unbounded sensitivity when no lower and upper bounds exist on the value of the attribute being summed. When lower and upper bounds do exist, the sensitivity of a summation query is equal to the difference between them. One way to make a bound is to artificially set a lower and an upper limit of values, a process called clipping.\n",
    "\n",
    "For example, we can set the limits for working hours to be (0, 60), since no one can work less than 0 hours, and 60 is a reasonable upper limit. \n",
    "\n",
    "One good rule of thumb might be set the limits observed at the current dataset. But, **if we have look at the actual values in the dataset, this would violate differential privacy**. One workaround is to use differentially private queries to estimate the lower and upper limits---use DP to achieve DP! In the case of working hours, we can set the lower bound to 0 and slowing increase the upper bound until the query result stops changing, i.e., no new row was added by increasing the bound. Let's try this with Laplace mechanism with privacy budget $\\epsilon =.1$\n"
   ]
  },
  {
   "cell_type": "code",
   "execution_count": 79,
   "id": "2e2a2caa-62ec-4f85-8afb-3d3a53358cb4",
   "metadata": {},
   "outputs": [
    {
     "data": {
      "image/png": "[encoded data removed]",
      "text/plain": [
       "<Figure size 432x288 with 1 Axes>"
      ]
     },
     "metadata": {
      "needs_background": "light"
     },
     "output_type": "display_data"
    }
   ],
   "source": [
    "import matplotlib.pylab as plt\n",
    "epsilon =.01\n",
    "lower_limit=0\n",
    "upper_lim=range(0,100)\n",
    "sum_hours=[]\n",
    "for u in upper_lim:\n",
    "        s = adult[\"Hours per week\"].clip(lower_limit, u).sum() + \\\n",
    "        np.random.laplace(loc=0, scale= (u-lower_limit)/epsilon)\n",
    "        sum_hours.append(s)\n",
    "plt.plot(upper_lim, sum_hours)\n",
    "plt.xlabel('Upper limit of \"working hours\"')\n",
    "plt.ylabel('Sum of working hour')\n",
    "#plt.yscale('log')\n",
    "plt.show()"
   ]
  },
  {
   "cell_type": "markdown",
   "id": "0e783ccb-9461-4fe7-9e9e-0915318f9902",
   "metadata": {},
   "source": [
    "From the figure, it is pretty clear that the result does not change much after 50, which can be a reasonable upper bound (in the dataset, 75% rows have values less than 45, see below)"
   ]
  },
  {
   "cell_type": "code",
   "execution_count": 82,
   "id": "84b733cd-0f1e-4f42-bcb8-f96bae0950d6",
   "metadata": {},
   "outputs": [
    {
     "data": {
      "text/plain": [
       "count    32563.000000\n",
       "mean        40.436201\n",
       "std         12.349083\n",
       "min          0.000000\n",
       "25%         40.000000\n",
       "50%         40.000000\n",
       "75%         45.000000\n",
       "max         99.000000\n",
       "Name: Hours per week, dtype: float64"
      ]
     },
     "execution_count": 82,
     "metadata": {},
     "output_type": "execute_result"
    }
   ],
   "source": [
    "adult[\"Hours per week\"].describe()"
   ]
  },
  {
   "cell_type": "markdown",
   "id": "8aa70f6d-d03b-456d-9cc0-e61c3543e8ac",
   "metadata": {},
   "source": [
    "Note that, since we are quering 100 times to draw that plot, we are spending .1 privacy budget in total (one query spends .01). This is discussed in detail in the chapter on sequential composition."
   ]
  },
  {
   "cell_type": "code",
   "execution_count": null,
   "id": "ad1e205f-f314-4dc0-8a45-01e571248e9b",
   "metadata": {},
   "outputs": [],
   "source": []
  }
 ],
 "metadata": {
  "kernelspec": {
   "display_name": "Python 3 (ipykernel)",
   "language": "python",
   "name": "python3"
  },
  "language_info": {
   "codemirror_mode": {
    "name": "ipython",
    "version": 3
   },
   "file_extension": ".py",
   "mimetype": "text/x-python",
   "name": "python",
   "nbconvert_exporter": "python",
   "pygments_lexer": "ipython3",
   "version": "3.9.16"
  }
 },
 "nbformat": 4,
 "nbformat_minor": 5
}
