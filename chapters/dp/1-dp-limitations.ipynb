{
 "cells": [
  {
   "cell_type": "markdown",
   "id": "fa5bacf6-d76c-4247-993f-8fb95ff57530",
   "metadata": {},
   "source": [
    "(sec-dp::limitations)=\n",
    "# Limitations of DP\n",
    "\n",
    "## Unit of privacy\n",
    "Differential privacy defines neighboring datasets as any two datasets that differ in \"one person’s data.\"\n",
    "\n",
    "The *unit of privacy* refers to the \"neighboring\" datasets concept: two datasets that differ in \"one person’s data.\" And the DP mechanism guarantees that one can distinguish between those datasets by looking at some query result; That means, the unit of privacy is \"one person\", i.e., the mechanism protects privacy of one person. But in practical implementations in many scenarios, this unit of privacy can vary. For example, Apple’s implementation of differential privacy, uses a \"person-day\" unit of privacy, implying that the privacy guarantee holds for the data submitted by a person on a single day. \n",
    "\n",
    "Copied from {cite}`programmingDP2021`\n",
    "As mentioned earlier, longitudinal data is hard to protect using DP due to trend (i.e., correlation across time), and may lead to failures. For example, in Apple’s case, DP does not protect trend even for individual people. If a person\n",
    "submits identical data for 365 days in a row, then differential privacy provides essentially no protection for that data.\n",
    "The “one person” unit of privacy is a good default, and usually avoids surprises. Other units of privacy are usually used\n",
    "to make it easier to get accurate results, or because it’s hard to tie specific data values to individual people.\n",
    "It’s common to make a simplifying assumption that makes it easy to formalize the definition of neighboring datasets:\n",
    "\n",
    "**Each individual’s data is contained in exactly one row of the data**\n",
    "If this assumption is true, then it’s possible to define neighboring datasets formally, in terms of the format of the data (see below), and retain the desired “one person” unit of privacy. When it’s not true, the best solution is to transform the data and queries in order to achieve the “one person” unit of privacy. It’s best to avoid using a different unit of privacy whenever possible."
   ]
  },
  {
   "cell_type": "markdown",
   "id": "5f0b7cf9-32e3-4d78-8796-c0d3f2ecd9db",
   "metadata": {},
   "source": []
  },
  {
   "cell_type": "code",
   "execution_count": null,
   "id": "053c2abb-97b6-40fc-a99f-de92aebb8034",
   "metadata": {},
   "outputs": [],
   "source": []
  }
 ],
 "metadata": {
  "kernelspec": {
   "display_name": "Python 3 (ipykernel)",
   "language": "python",
   "name": "python3"
  },
  "language_info": {
   "codemirror_mode": {
    "name": "ipython",
    "version": 3
   },
   "file_extension": ".py",
   "mimetype": "text/x-python",
   "name": "python",
   "nbconvert_exporter": "python",
   "pygments_lexer": "ipython3",
   "version": "3.9.16"
  }
 },
 "nbformat": 4,
 "nbformat_minor": 5
}
