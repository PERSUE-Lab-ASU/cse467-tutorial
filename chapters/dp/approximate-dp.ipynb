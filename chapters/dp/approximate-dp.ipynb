{
 "cells": [
  {
   "cell_type": "markdown",
   "id": "17b462f3-a2a1-4b8b-bde4-b0629d5efb2d",
   "metadata": {},
   "source": [
    "# Approximate Differential Privacy"
   ]
  },
  {
   "cell_type": "code",
   "execution_count": null,
   "id": "4e7b2981-ecf4-467f-bd11-dcf9c3f84e3a",
   "metadata": {},
   "outputs": [],
   "source": []
  }
 ],
 "metadata": {
  "kernelspec": {
   "display_name": "Python 3 (ipykernel)",
   "language": "python",
   "name": "python3"
  },
  "language_info": {
   "codemirror_mode": {
    "name": "ipython",
    "version": 3
   },
   "file_extension": ".py",
   "mimetype": "text/x-python",
   "name": "python",
   "nbconvert_exporter": "python",
   "pygments_lexer": "ipython3",
   "version": "3.9.16"
  }
 },
 "nbformat": 4,
 "nbformat_minor": 5
}
