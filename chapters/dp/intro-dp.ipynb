{
 "cells": [
  {
   "cell_type": "markdown",
   "id": "51c0a750-c5a3-46e1-b8d5-c7afc7a76faf",
   "metadata": {},
   "source": [
    "# Differential Privacy"
   ]
  },
  {
   "cell_type": "markdown",
   "id": "81a4eece-20f0-4d10-ab02-d21de8b603a3",
   "metadata": {
    "tags": []
   },
   "source": [
    "## Attack model\n",
    "\n",
    "We have studied privacy attacks where attackers learn sensitive information about an individual by linking two (or more) published data sources. What if the datasets are not published? For example, imagine a situation where a hospital dataset is created, as shown below, where anyone can query it to learn aggregated statistics (e.g., \"how many people suffer from obesity?\") but the actual dataset is never released."
   ]
  },
  {
   "cell_type": "code",
   "execution_count": 7,
   "id": "3c0b1c88-c8d4-4d12-90a6-d2d87c8275bb",
   "metadata": {},
   "outputs": [
    {
     "data": {
      "text/html": [
       "<div>\n",
       "<style scoped>\n",
       "    .dataframe tbody tr th:only-of-type {\n",
       "        vertical-align: middle;\n",
       "    }\n",
       "\n",
       "    .dataframe tbody tr th {\n",
       "        vertical-align: top;\n",
       "    }\n",
       "\n",
       "    .dataframe thead th {\n",
       "        text-align: right;\n",
       "    }\n",
       "</style>\n",
       "<table border=\"1\" class=\"dataframe\">\n",
       "  <thead>\n",
       "    <tr style=\"text-align: right;\">\n",
       "      <th></th>\n",
       "      <th>Marital status</th>\n",
       "      <th>Sex</th>\n",
       "      <th>Zip</th>\n",
       "      <th>Ethnicity</th>\n",
       "      <th>Problem</th>\n",
       "    </tr>\n",
       "  </thead>\n",
       "  <tbody>\n",
       "    <tr>\n",
       "      <th>0</th>\n",
       "      <td>Divorced</td>\n",
       "      <td>Male</td>\n",
       "      <td>2139</td>\n",
       "      <td>Asian</td>\n",
       "      <td>Hypertension</td>\n",
       "    </tr>\n",
       "    <tr>\n",
       "      <th>1</th>\n",
       "      <td>Divorced</td>\n",
       "      <td>Female</td>\n",
       "      <td>2139</td>\n",
       "      <td>Asian</td>\n",
       "      <td>Obesity</td>\n",
       "    </tr>\n",
       "    <tr>\n",
       "      <th>2</th>\n",
       "      <td>Married</td>\n",
       "      <td>Female</td>\n",
       "      <td>2139</td>\n",
       "      <td>Asian</td>\n",
       "      <td>Chest pain</td>\n",
       "    </tr>\n",
       "    <tr>\n",
       "      <th>3</th>\n",
       "      <td>Married</td>\n",
       "      <td>Female</td>\n",
       "      <td>2139</td>\n",
       "      <td>Asian</td>\n",
       "      <td>Obesity</td>\n",
       "    </tr>\n",
       "    <tr>\n",
       "      <th>4</th>\n",
       "      <td>Married</td>\n",
       "      <td>Male</td>\n",
       "      <td>2148</td>\n",
       "      <td>Black</td>\n",
       "      <td>Hypertension</td>\n",
       "    </tr>\n",
       "    <tr>\n",
       "      <th>5</th>\n",
       "      <td>Married</td>\n",
       "      <td>Male</td>\n",
       "      <td>2138</td>\n",
       "      <td>Black</td>\n",
       "      <td>Shortness of breath</td>\n",
       "    </tr>\n",
       "    <tr>\n",
       "      <th>6</th>\n",
       "      <td>Married</td>\n",
       "      <td>Female</td>\n",
       "      <td>2141</td>\n",
       "      <td>Black</td>\n",
       "      <td>Shortness of breath</td>\n",
       "    </tr>\n",
       "    <tr>\n",
       "      <th>7</th>\n",
       "      <td>Married</td>\n",
       "      <td>Male</td>\n",
       "      <td>2141</td>\n",
       "      <td>Black</td>\n",
       "      <td>Obesity</td>\n",
       "    </tr>\n",
       "    <tr>\n",
       "      <th>8</th>\n",
       "      <td>Single</td>\n",
       "      <td>Female</td>\n",
       "      <td>2138</td>\n",
       "      <td>White</td>\n",
       "      <td>Chest pain</td>\n",
       "    </tr>\n",
       "    <tr>\n",
       "      <th>9</th>\n",
       "      <td>Single</td>\n",
       "      <td>Male</td>\n",
       "      <td>2138</td>\n",
       "      <td>White</td>\n",
       "      <td>Obesity</td>\n",
       "    </tr>\n",
       "    <tr>\n",
       "      <th>10</th>\n",
       "      <td>Widow</td>\n",
       "      <td>Female</td>\n",
       "      <td>2142</td>\n",
       "      <td>White</td>\n",
       "      <td>Shortness of breath</td>\n",
       "    </tr>\n",
       "  </tbody>\n",
       "</table>\n",
       "</div>"
      ],
      "text/plain": [
       "   Marital status     Sex   Zip Ethnicity              Problem\n",
       "0        Divorced    Male  2139     Asian         Hypertension\n",
       "1        Divorced  Female  2139     Asian              Obesity\n",
       "2         Married  Female  2139     Asian           Chest pain\n",
       "3         Married  Female  2139     Asian              Obesity\n",
       "4         Married    Male  2148     Black         Hypertension\n",
       "5         Married    Male  2138     Black  Shortness of breath\n",
       "6         Married  Female  2141     Black  Shortness of breath\n",
       "7         Married    Male  2141     Black              Obesity\n",
       "8          Single  Female  2138     White           Chest pain\n",
       "9          Single    Male  2138     White              Obesity\n",
       "10          Widow  Female  2142     White  Shortness of breath"
      ]
     },
     "execution_count": 7,
     "metadata": {},
     "output_type": "execute_result"
    }
   ],
   "source": [
    "health=pd.read_csv('health.csv')[['Name', 'SSN', 'Marital status', 'Sex', 'DOB', 'Zip', 'Ethnicity', 'Problem' ]]\n",
    "health[['Marital status', 'Sex', 'Zip', 'Ethnicity', 'Problem' ]]"
   ]
  },
  {
   "cell_type": "markdown",
   "id": "43434ae0-ac03-4841-a5cc-7ad164d7f914",
   "metadata": {},
   "source": [
    "You know that your neighbor Igor goes to the same hospital. You know Igor's Ethnicity (and obviously, Zip, marital status, and gender!). Assume that the database owner removed any direct identifiers or does not allow quering using them (e.g.,  you cannot ask \"what medical problems people have who are named 'Igor'?\" Can you learn, by quering the dataset, and not by directly accessing it, what medical problem Igor is suffering from? \n",
    "\n",
    "The answer is, unfortunately, **Yes**, which is why we have this chapter.  Before looking into how, lets learn about the concept of `Neighboring datasets`.\n",
    "\n",
    "### Neighboring datasets\n",
    "Two datasets $D_1$ and $D_2$ are neighbors if they differ in at most one record (i.e., one row). Thus, either $D_1$ has at most one more (or less) row than $D_2$, or at most one row in $D_1$ has values that are different than $D_2$. We write $|D_1 - D_2|\\leq 1$\n",
    "\n",
    "```{image} neighbor-datasets.png\n",
    ":height: 150px\n",
    ":name: neighbor-datasets\n",
    "\n",
    "Neighboring datasets\n",
    "```\n",
    "\n",
    "For example, in {ref}`figure <neighbor-datasets>`, $D_2$ can be obtained by deleting one row from $D_1$ (or $D_1$ can be obtained by adding one row to $D_2$) and thus they are neighbors. $D_1$ and $D_3$ has the same number of rows, but the values in (exactly) one row is different, thus they are also neighbors. Note that, you can obtain $D_3$ by first deleting the last row from $D_1$ and then adding one row in the resulting dataset; thus, this replacement operation can be thought of as a combination of a deletion and an addition operations (i.e., two operations in total).\n",
    "\n",
    "Imagine that you can only query about the average salary of a set of people in that dataset. Can you learn individual's salary? Yes! By doing some arithmetic manipulations, you can learn `P3`'s salary by querying the average salary from $D_1$ and $D_2$.\n",
    "\n",
    "Similarly, for the health dataset above, we can construct intermediate neighbor datasets to query from and learn about individuals. Let's say Igor's record is in the $9^{th}$ row. Consider the following neighoboring datasets."
   ]
  },
  {
   "cell_type": "code",
   "execution_count": 16,
   "id": "418f1b36-32cf-4a2d-9d70-b1bcd810ce5a",
   "metadata": {},
   "outputs": [
    {
     "data": {
      "text/html": [
       "<div>\n",
       "<style scoped>\n",
       "    .dataframe tbody tr th:only-of-type {\n",
       "        vertical-align: middle;\n",
       "    }\n",
       "\n",
       "    .dataframe tbody tr th {\n",
       "        vertical-align: top;\n",
       "    }\n",
       "\n",
       "    .dataframe thead th {\n",
       "        text-align: right;\n",
       "    }\n",
       "</style>\n",
       "<table border=\"1\" class=\"dataframe\">\n",
       "  <thead>\n",
       "    <tr style=\"text-align: right;\">\n",
       "      <th></th>\n",
       "      <th>Name</th>\n",
       "      <th>SSN</th>\n",
       "      <th>Marital status</th>\n",
       "      <th>Sex</th>\n",
       "      <th>DOB</th>\n",
       "      <th>Zip</th>\n",
       "      <th>Ethnicity</th>\n",
       "      <th>Problem</th>\n",
       "    </tr>\n",
       "  </thead>\n",
       "  <tbody>\n",
       "    <tr>\n",
       "      <th>1</th>\n",
       "      <td>--</td>\n",
       "      <td>--</td>\n",
       "      <td>Divorced</td>\n",
       "      <td>Female</td>\n",
       "      <td>1996-06-27</td>\n",
       "      <td>2139</td>\n",
       "      <td>Asian</td>\n",
       "      <td>Obesity</td>\n",
       "    </tr>\n",
       "    <tr>\n",
       "      <th>3</th>\n",
       "      <td>--</td>\n",
       "      <td>--</td>\n",
       "      <td>Married</td>\n",
       "      <td>Female</td>\n",
       "      <td>1996-09-22</td>\n",
       "      <td>2139</td>\n",
       "      <td>Asian</td>\n",
       "      <td>Obesity</td>\n",
       "    </tr>\n",
       "    <tr>\n",
       "      <th>7</th>\n",
       "      <td>--</td>\n",
       "      <td>--</td>\n",
       "      <td>Married</td>\n",
       "      <td>Male</td>\n",
       "      <td>1995-07-23</td>\n",
       "      <td>2141</td>\n",
       "      <td>Black</td>\n",
       "      <td>Obesity</td>\n",
       "    </tr>\n",
       "    <tr>\n",
       "      <th>9</th>\n",
       "      <td>--</td>\n",
       "      <td>--</td>\n",
       "      <td>Single</td>\n",
       "      <td>Male</td>\n",
       "      <td>1995-02-18</td>\n",
       "      <td>2138</td>\n",
       "      <td>White</td>\n",
       "      <td>Obesity</td>\n",
       "    </tr>\n",
       "  </tbody>\n",
       "</table>\n",
       "</div>"
      ],
      "text/plain": [
       "  Name SSN Marital status     Sex         DOB   Zip Ethnicity  Problem\n",
       "1   --  --       Divorced  Female  1996-06-27  2139     Asian  Obesity\n",
       "3   --  --        Married  Female  1996-09-22  2139     Asian  Obesity\n",
       "7   --  --        Married    Male  1995-07-23  2141     Black  Obesity\n",
       "9   --  --         Single    Male  1995-02-18  2138     White  Obesity"
      ]
     },
     "execution_count": 16,
     "metadata": {},
     "output_type": "execute_result"
    }
   ],
   "source": [
    "health[health.Problem=='Obesity']"
   ]
  },
  {
   "cell_type": "code",
   "execution_count": 17,
   "id": "a2214104-d7ea-4344-bc58-9712f51cb7ce",
   "metadata": {},
   "outputs": [
    {
     "data": {
      "text/html": [
       "<div>\n",
       "<style scoped>\n",
       "    .dataframe tbody tr th:only-of-type {\n",
       "        vertical-align: middle;\n",
       "    }\n",
       "\n",
       "    .dataframe tbody tr th {\n",
       "        vertical-align: top;\n",
       "    }\n",
       "\n",
       "    .dataframe thead th {\n",
       "        text-align: right;\n",
       "    }\n",
       "</style>\n",
       "<table border=\"1\" class=\"dataframe\">\n",
       "  <thead>\n",
       "    <tr style=\"text-align: right;\">\n",
       "      <th></th>\n",
       "      <th>Name</th>\n",
       "      <th>SSN</th>\n",
       "      <th>Marital status</th>\n",
       "      <th>Sex</th>\n",
       "      <th>DOB</th>\n",
       "      <th>Zip</th>\n",
       "      <th>Ethnicity</th>\n",
       "      <th>Problem</th>\n",
       "    </tr>\n",
       "  </thead>\n",
       "  <tbody>\n",
       "    <tr>\n",
       "      <th>1</th>\n",
       "      <td>--</td>\n",
       "      <td>--</td>\n",
       "      <td>Divorced</td>\n",
       "      <td>Female</td>\n",
       "      <td>1996-06-27</td>\n",
       "      <td>2139</td>\n",
       "      <td>Asian</td>\n",
       "      <td>Obesity</td>\n",
       "    </tr>\n",
       "    <tr>\n",
       "      <th>3</th>\n",
       "      <td>--</td>\n",
       "      <td>--</td>\n",
       "      <td>Married</td>\n",
       "      <td>Female</td>\n",
       "      <td>1996-09-22</td>\n",
       "      <td>2139</td>\n",
       "      <td>Asian</td>\n",
       "      <td>Obesity</td>\n",
       "    </tr>\n",
       "    <tr>\n",
       "      <th>7</th>\n",
       "      <td>--</td>\n",
       "      <td>--</td>\n",
       "      <td>Married</td>\n",
       "      <td>Male</td>\n",
       "      <td>1995-07-23</td>\n",
       "      <td>2141</td>\n",
       "      <td>Black</td>\n",
       "      <td>Obesity</td>\n",
       "    </tr>\n",
       "  </tbody>\n",
       "</table>\n",
       "</div>"
      ],
      "text/plain": [
       "  Name SSN Marital status     Sex         DOB   Zip Ethnicity  Problem\n",
       "1   --  --       Divorced  Female  1996-06-27  2139     Asian  Obesity\n",
       "3   --  --        Married  Female  1996-09-22  2139     Asian  Obesity\n",
       "7   --  --        Married    Male  1995-07-23  2141     Black  Obesity"
      ]
     },
     "execution_count": 17,
     "metadata": {},
     "output_type": "execute_result"
    }
   ],
   "source": [
    "health[(health.Problem=='Obesity') & (health.Ethnicity!='White')]"
   ]
  },
  {
   "cell_type": "markdown",
   "id": "c580df0e-15c4-441a-a791-cbbfa6376cac",
   "metadata": {},
   "source": [
    "Of course these dataset are not observable by the attackers. But they can query, how many people suffer from `Obesity` in total (the first dataset) and people who are not white (remeber that the attacker knows Igor's race and other information). If the difference is $1$, they know that Igor has Obesity! If it is more than $1$, they can narrow down the result by adding more parameters (like sex, zip, etc.) The attacker can repeat the same steps with other medical problems, and Igor must have at least one of them.\n",
    "\n",
    "**How to prevent such differencing attacks?**\n",
    "\n",
    "**Differential Privacy** is the answer. Let's learn about another concept that is very important to understand differential privacy (DP, henceforth).\n",
    "\n",
    "### Sensitivity of a function\n",
    "A database query is essentially a function: it takes a database, and optionally some parameters, and returns either a dataset or some scalar value. For aggregate query functions, such as `COUNT`, `MIN`, `MAX`, `SUM`, `AVG`, etc., the outcome is a single value. The sensitivify of a function is how much the output value changes when the function is applied to two neighboring datasets. Formally:\n",
    "\n",
    "The $l_1$-sensitivity of a function $M$ is: $\\Delta = max_{D_1, D_2 \\text{where} |D_1-D_2|\\leq 1} |M(D_1) - M(D_2)|$\n",
    "\n",
    "E.g., for the function that counts number of people with obesity, the sensitivity is $1$ (this is true for any count function). Contrarilty, the sensitivity for `SUM` or `MAX` functions can be unbounded! In practice, we can know their limits based on auxiliary information, such as what can be the maximum salary for a position. We will learn more about sensitivity of different functions in a later [section](sensitivity-details-section)."
   ]
  },
  {
   "cell_type": "markdown",
   "id": "adb30560-a061-4473-a5f4-243070ce53ad",
   "metadata": {},
   "source": [
    "## Intuition for Differential Privacy\n",
    "The problem is that, when you queried \"how many people have obesity?\", you get a fixed number in return (which is correct). What if, you get a slighthly different number each time you ask the same question? In other words, the query function can be a randomized function, which first adds a random number to the query result, and then returns that value. Formally, if $f(D)$ is the function that computes the query on dataset $D$, then we have:\n",
    "\n",
    "$M(D) = f(D) + \\text{some random number}$.\n",
    "\n",
    "Now, you will get different values at different time when you query $M(D_1)$, same for $M(D_2)$, and you cannot reliably take their difference to learn about individual rows. Problem solved!\n",
    "\n",
    "The problem is now how to generate those random numbers? If we arbitrarily add random numbers, they will destroy any utility of the query results (imagine getting $345$ and $245573467$ for the same query!). In the other extreme, we can turn $M$ into a constant function, and return the same value regardless of the query!\n",
    "\n",
    "Recall that, our actual purpose is to return values that are \"close enough\" or \"almost indistinguible\" for $M(D_1)$ and $M(D_2)$. In other words, by looking at the return value, an attacker should not be able to know whether it came from $D_1$ or $D_2$. That means, more formally, the probability of a return value is roughly the same, regardless of whether $D_1$ or $D_2$ was used as the input dataset to the function $M$. "
   ]
  },
  {
   "cell_type": "markdown",
   "id": "053d69cf-5c52-4b8e-833f-58d2ba78b9de",
   "metadata": {},
   "source": [
    "### $\\epsilon-$Differential Privacy\n",
    "\n",
    "A *randomized* mechanism (or algorithm) $M$ satisfies $\\epsilon$-differential privacy if and only if for any two neighboring datasets $D_1$ and $D_2$, the following condition is satisfied\n",
    "\n",
    "$\\forall S \\in Range(M): P(M(D_1) \\in S) \\leq e^{\\epsilon} P(M(D_2) \\in S)$\n",
    "\n",
    "where $\\epsilon \\leq 0$ and $Range(M)$ denotes the set of all possible outputs of the algorithm $M$.\n",
    "\n",
    "This defition can be written as\n",
    "\n",
    "$\\forall S \\in Range(M): \\frac{P(M(D_1) \\in S)}{ P(M(D_2) \\in S)} \\leq e^{\\epsilon}$\n",
    "\n",
    "where  $\\frac{0}{0}=1$\n",
    "\n",
    "\n",
    "The important implication of this definition is that $M$’s output will be pretty much the same, with or without the data of any specific individual. That means, since $M$ is randomized, the built-in randomness is \"enough” to prevent someone from guessing, after seeing the output, which dataset was used to compute that output. Imagine that, if your data is present in $D_1$ but not in $D_2$, an adversary won't be able to tell whether or not your data was present in the\n",
    "input dataset.\n",
    "\n",
    "```{note} \n",
    "The mechanism $M$ is differentially private (if it satisfies the above condition), not the datasets.\n",
    "```\n",
    "\n",
    "```{note}\n",
    "The parameter $\\epsilon$ dictates how much privacy you get: smaller values mean that when algorithm $M$ is applied on $D_1$ and $D_2$, the outcomes are similar (i.e., more privacy) than larger values.\n",
    "```"
   ]
  },
  {
   "cell_type": "markdown",
   "id": "e69f40bc-ec74-4f67-9253-fa446cc9e47c",
   "metadata": {},
   "source": [
    "## Acheiving Differential Privacy\n",
    "Recall that the goal is to make an algorithm differentially private, i.e., the algorithm gives *similar* outputs for neighboring datastets. How do we acheive this? The most popular mechanism is to add noise to the outcomes, so that they become similar enough. There are multiple ways to select the noise, we will explore some of them below.\n",
    "\n",
    "### The Laplace mechanism\n",
    "\n",
    "Let’s consider a query on the census data: “How many individuals in the dataset are 40 years old or older?”"
   ]
  },
  {
   "cell_type": "code",
   "execution_count": 30,
   "id": "f14727f3-7bcd-43dc-a36c-55edfbe2ab81",
   "metadata": {},
   "outputs": [
    {
     "data": {
      "text/plain": [
       "7161"
      ]
     },
     "execution_count": 30,
     "metadata": {},
     "output_type": "execute_result"
    }
   ],
   "source": [
    "adult[adult['Age'] >= 40].shape[0]"
   ]
  },
  {
   "cell_type": "markdown",
   "id": "fba48cea-03d9-4cd5-acfe-19f6e0d00e32",
   "metadata": {},
   "source": [
    "How can we add enough noise to satisfy the DP property, but not too much that the answer becomes useless? Laplace mechanism is one of the most popular ways to achieve DP in such cases. Here, we add some noise, sampled from the Laplace distribution, to the actual query output, and return the noisy result. If the actual query function is denoted by $f$ that computes the query using dataset $D$, then the noisy return value becomes $f(D)+ L$, where $L$ is the Laplace noise. Since the noise is sampled from a distribution, each time we call the query function, a different amount of noise will be added. Thus, the whole mechanism becomes randomized, and, DP also requires a randomized algorithm. The final question is, how to appropriately set  the parameters of the Laplace function, so that when we add noise from it, we can satisfy the DP condition? \n",
    "\n",
    "The Laplace distribution for a zero mean is given by $L(b)=\\frac{1}{2b} e^{-\\frac{|x|}{b}}$ where $b$ is the variance parameter. To satisfy DP, we set $b= \\frac{\\Delta}{\\epsilon}$. So the noisy output becomes $f(D)+L(\\frac{\\Delta}{\\epsilon})$ . This whole randomized mechanism can be represented as $M(D, \\epsilon, \\Delta) = f(D)+L(\\frac{\\Delta}{\\epsilon})$, where $M$ is the randomized mechanism that takes a dataset, the privacy budget, and sensitivity of the query function, and produces a $\\epsilon$-differentially private outcome."
   ]
  },
  {
   "cell_type": "markdown",
   "id": "90244843-3fd2-47a8-a975-217c63286b99",
   "metadata": {},
   "source": [
    "For counting queries the sensitivity is 1: if a query counts the number of rows in the dataset with a particular property, and then we modify exactly one row of the dataset, then the query’s output can change by at most 1.\n",
    "Thus we can achieve differential privacy for our example query by using the Laplace mechanism with sensitivity 1 and an\n",
    "$\\epsilon$ of our choosing. "
   ]
  },
  {
   "cell_type": "code",
   "execution_count": 42,
   "id": "81392862-8de0-4399-9f09-b19ae0a97e54",
   "metadata": {},
   "outputs": [
    {
     "name": "stdout",
     "output_type": "stream",
     "text": [
      "7152\n",
      "7150\n",
      "7161\n",
      "7164\n",
      "7152\n"
     ]
    }
   ],
   "source": [
    "sensitivity = 1\n",
    "epsilon = 0.1\n",
    "# Get the differentially private count of adults who are older than 40 years. \n",
    "# Note that each call produces slightly different result, and each of them are different, but pretty close to the original value.\n",
    "for i in range(5):\n",
    "    print(int(adult[adult['Age'] >= 40].shape[0] + np.random.laplace(loc=0, scale=sensitivity/epsilon)))"
   ]
  },
  {
   "cell_type": "markdown",
   "id": "9b238001-881b-4140-8f81-564adadcc289",
   "metadata": {},
   "source": [
    "Now see that a larger value of $\\epsilon$ produces more different outcomes (hence, the otucomes may not be \"similar enough\" to each other to protect privacy)"
   ]
  },
  {
   "cell_type": "code",
   "execution_count": 44,
   "id": "bfd9a8a9-aafb-4556-b7d7-1ce86fab79ca",
   "metadata": {},
   "outputs": [
    {
     "name": "stdout",
     "output_type": "stream",
     "text": [
      "7160\n",
      "7161\n",
      "7160\n",
      "7161\n",
      "7161\n"
     ]
    }
   ],
   "source": [
    "sensitivity = 1\n",
    "epsilon = 5\n",
    "for i in range(5):\n",
    "    print(int(adult[adult['Age'] >= 40].shape[0] + np.random.laplace(loc=0, scale=sensitivity/epsilon)))"
   ]
  },
  {
   "cell_type": "markdown",
   "id": "77d7988c-16d1-4350-a0dc-d72836df10b2",
   "metadata": {},
   "source": [
    "Below is the analytical proof that Laplace mechanism satisfies DP condition.\n",
    "\n",
    "For $D_1$, the Laplace noise will be $L(\\frac{\\Delta}{\\epsilon}) = \\frac{\\epsilon}{2\\Delta} e^{-(\\frac{\\epsilon |f(D_1)|}{\\Delta})}$\n",
    "\n",
    "For $D_2$, the Laplace noise will be $L(\\frac{\\Delta}{\\epsilon}) = \\frac{\\epsilon}{2\\Delta} e^{-(\\frac{\\epsilon |f(D_2)|}{\\Delta})}$\n",
    "\n",
    "For the DP mechanism $M$, the randomization part comes from this Laplace noise sampling, all other steps in the mechanism are deterministic. Thus, the final outcome of $M$, which is random or probabilistic, will follow the same distribution as the Laplace function. Tat means\n",
    "\n",
    "$\\frac{P(M(D_1))\\in S}{P(M(D_2))\\in S} =  \\frac{e^{-(\\frac{\\epsilon|f(D_1)|} {\\Delta})}}{e^{-(\\frac{\\epsilon|f(D_2)|} {\\Delta})}} = e^{-\\frac{\\epsilon (|f(D_2)| - |f(D_1|)} {\\Delta}} \\leq e^{\\epsilon}$\n"
   ]
  },
  {
   "cell_type": "markdown",
   "id": "593716c4-e604-41c6-aa0e-a6b40cf9e0c1",
   "metadata": {},
   "source": []
  },
  {
   "cell_type": "markdown",
   "id": "de4c34e4-86c1-44e9-aa70-97e3cc731ef2",
   "metadata": {},
   "source": [
    "```{bibliography}\n",
    "```"
   ]
  },
  {
   "cell_type": "code",
   "execution_count": null,
   "id": "bc742a12-46e4-41c8-b705-d793e8de8f43",
   "metadata": {},
   "outputs": [],
   "source": []
  }
 ],
 "metadata": {
  "kernelspec": {
   "display_name": "Python 3 (ipykernel)",
   "language": "python",
   "name": "python3"
  },
  "language_info": {
   "codemirror_mode": {
    "name": "ipython",
    "version": 3
   },
   "file_extension": ".py",
   "mimetype": "text/x-python",
   "name": "python",
   "nbconvert_exporter": "python",
   "pygments_lexer": "ipython3",
   "version": "3.9.16"
  }
 },
 "nbformat": 4,
 "nbformat_minor": 5
}
