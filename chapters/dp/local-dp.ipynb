{
 "cells": [
  {
   "cell_type": "code",
   "execution_count": 1,
   "id": "dad5ef4c-ff30-4a49-92eb-561bf0879ce8",
   "metadata": {},
   "outputs": [],
   "source": [
    "import pandas as pd, numpy as np\n",
    "import matplotlib.pyplot as plt"
   ]
  },
  {
   "cell_type": "markdown",
   "id": "e95c87da-dc0d-42db-90f9-9f15f31dcebf",
   "metadata": {},
   "source": [
    "# Local differential privacy\n",
    "\n",
    "## Threat model\n",
    "\n",
    "Previously, we considered a situation where a trusted data curator collected data from the population, but what if there is not such trusted curator? This is often the case in practice, because the data collector (e.g., the government or a private for-profit company) may be also the one who analyzes and uses the collected data. Thus, we need a mechanism to apply DP (the randomization) *before* the data is collected. There are several ways to do that for different data types.\n",
    "\n",
    "## Randomized Response (RR) mechanism for binary data\n",
    "\n",
    "Let's assume that the data to be collected is binary (Yes or No). Under RR, the original response is randomized twice, following this process:\n",
    "\n",
    "1. Flip a coin: if tail, send the original respone\n",
    "2. Otherwise, flip another coin: if the second coin is a head, answer “yes” \n",
    "3. if the second coin is a tail, answer “no”\n",
    "\n",
    "Randomizing the original response twice provides privacy in the form of *plausible deniability*, i.e., even if the final response is the same as the original response, the data subject can deny that that's how they had responded.\n",
    "\n",
    "Does RR satisfy DP criteria? It does for $\\epsilon=ln 3$, as the following proof demonstrates.\n",
    "\n",
    "Imagine that $D_1$ contains the original response, and $D_2$ contains the final response (which might be the same as the original one). All other rows of those two datasets are the same (they are neighbors). If the original response was a \"yes\", then,\n",
    "\n",
    "$\\frac{P(M(D_1) = Y)}{P(M(D_2)= Y )} = \\frac{P(Y|Y)}{P(Y|N)} = \\frac{\\frac{3}{4}}{\\frac{1}{4}} = 3$\n",
    "\n",
    "Thus, $3\\leq e^{\\epsilon}$ or $\\epsilon \\geq log_2 3=ln 3$\n",
    "\n",
    "```{note}\n",
    "Randomize response is $ln 3-$Differential private\n",
    "```"
   ]
  },
  {
   "cell_type": "markdown",
   "id": "613e741c-ddef-4434-b7f8-0d7e5a3441a1",
   "metadata": {},
   "source": [
    "### Utility of RR\n",
    "\n",
    "How much utility is retained in randomized responses? How accurately can we recover the true \"Yes\" (or \"No\") responses?\n",
    "Let's assume that `p` is the true probability (proportion) of \"Yes\" responses.\n",
    "\n",
    "Actual (observed) number of “Yes”, $Y$ = expected number of true “yes” + expected number of false “yes\"\\\n",
    "$Y = p* (\\frac{1}{2} + \\frac{1}{2} * \\frac{1}{2}) + (1-p) * \\frac{1}{2} * \\frac{1}{2}$\\\n",
    "$Y = \\frac{1}{2} * p + \\frac{1}{4}$\\\n",
    "$p=2*(Y-\\frac{1}{4})$\n",
    "\n",
    "For a given (observed) `Y`, we can estimate the true probability of \"Yes\" response."
   ]
  },
  {
   "cell_type": "markdown",
   "id": "cd205b85-35ef-4d15-8b9f-1b672cb0e196",
   "metadata": {},
   "source": [
    "### General version of randomized response\n",
    "\n",
    "Let, $Y_i$ denote the final response, and $X_i$ denote the original response. Then, for some $\\gamma \\in [0,.5] $\\\n",
    "$Y_i = \\Biggl\\{ {X_i  \\text{   w.p.} \\frac{1}{2}+\\gamma}$, and, $1-X_i \\text{  w.p.} \\frac{1}{2}-\\gamma$\n",
    "\n",
    "If we set $\\gamma=1/4$, then we recover the double coin flip setting. Setting $\\gamma=0$ provides perfect privacy, because the final outcome ($Y_i$) is equally likely to be the original response ($X_i$) or the opposite ($1-X_i$). Setting $\\gamma=.5$ provides perfect utility (but no privacy), because the final outcome ($Y_i$) is alwasy equal to the original response ($X_i$). The following simulation shows how varying $\\gamma$ affects privacy and utility."
   ]
  },
  {
   "cell_type": "code",
   "execution_count": 19,
   "id": "15fe567c-57b4-455b-9a4d-35dc642ef6f5",
   "metadata": {},
   "outputs": [
    {
     "name": "stdout",
     "output_type": "stream",
     "text": [
      "gamma: 0.50, count[yes]=10000\n",
      "gamma: 0.40, count[yes]=9031\n",
      "gamma: 0.30, count[yes]=7973\n",
      "gamma: 0.20, count[yes]=7003\n",
      "gamma: 0.10, count[yes]=5965\n",
      "gamma: 0.00, count[yes]=4967\n"
     ]
    }
   ],
   "source": [
    "def randomize(orig_response, gamma):\n",
    "    if np.random.random() < .5+gamma:\n",
    "        return orig_response\n",
    "    \n",
    "    return 1-orig_response\n",
    "    \n",
    "x = [1]*10000 # originally all \"Yes\" responses\n",
    "for gamma in np.arange(.5, -0.1,-.1):\n",
    "    y= np.array([randomize(i, gamma) for i in x])\n",
    "    print('gamma: {:.2f}, count[yes]={}'.format(gamma, len(y[y==1])))"
   ]
  },
  {
   "cell_type": "code",
   "execution_count": null,
   "id": "750a0138-5452-4f3c-ba04-4a2f06aeffc2",
   "metadata": {},
   "outputs": [],
   "source": []
  }
 ],
 "metadata": {
  "kernelspec": {
   "display_name": "Python 3 (ipykernel)",
   "language": "python",
   "name": "python3"
  },
  "language_info": {
   "codemirror_mode": {
    "name": "ipython",
    "version": 3
   },
   "file_extension": ".py",
   "mimetype": "text/x-python",
   "name": "python",
   "nbconvert_exporter": "python",
   "pygments_lexer": "ipython3",
   "version": "3.9.16"
  }
 },
 "nbformat": 4,
 "nbformat_minor": 5
}
